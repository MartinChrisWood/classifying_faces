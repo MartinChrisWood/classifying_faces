{
 "cells": [
  {
   "cell_type": "markdown",
   "metadata": {},
   "source": [
    "# **Classifying facial expressions**"
   ]
  },
  {
   "cell_type": "code",
   "execution_count": 1,
   "metadata": {},
   "outputs": [],
   "source": [
    "# Module imports\n",
    "import random\n",
    "\n",
    "import numpy as np\n",
    "import pandas as pd\n",
    "\n",
    "# Various performance metrics\n",
    "from sklearn.metrics import accuracy_score\n",
    "from sklearn.metrics import f1_score\n",
    "from sklearn.metrics import precision_score\n",
    "from sklearn.metrics import recall_score\n",
    "\n",
    "# Various components of an ML pipeline\n",
    "from sklearn.metrics import confusion_matrix\n",
    "from sklearn.pipeline import Pipeline\n",
    "from sklearn.model_selection import GridSearchCV\n",
    "\n",
    "# For feature engineering\n",
    "from sklearn.decomposition import NMF\n",
    "from sklearn.decomposition import PCA\n",
    "from sklearn.preprocessing import StandardScaler\n",
    "from scipy.interpolate import interp2d\n",
    "\n",
    "# And a few actual models\n",
    "from sklearn.svm import LinearSVC    #  For q's a, b and c\n",
    "from xgboost import XGBClassifier    #  For the FUN part d\n",
    "\n",
    "# plotting utilities\n",
    "import matplotlib.pyplot as plt\n",
    "import seaborn as sns\n",
    "\n",
    "%matplotlib inline"
   ]
  },
  {
   "cell_type": "code",
   "execution_count": 2,
   "metadata": {},
   "outputs": [],
   "source": [
    "# Helper functions!\n",
    "def load_features_and_labels(subject, expression, path = \"./data/\"):\n",
    "    \"\"\" Reads the text files of raw data for a specified subject and\n",
    "    expression.  Also removes the timestamp column and converts to\n",
    "    numpy arrays for sklearn compatibility.\n",
    "    \"\"\"\n",
    "    raw_features = pd.read_table(path + subject + \"_\" + expression + \"_datapoints.txt\",\n",
    "                                 sep=\" \",\n",
    "                                 header=0)\n",
    "    \n",
    "    # Drop the timestamp!\n",
    "    raw_features = raw_features.drop('0.0', axis=1)\n",
    "    \n",
    "    raw_labels = pd.read_table(path + subject + \"_\" + expression + \"_targets.txt\",\n",
    "                               sep=\" \",\n",
    "                               header=None)\n",
    "    \n",
    "    # Transform to numpy arrays\n",
    "    return np.asarray(raw_features), np.ravel(raw_labels)\n",
    "\n",
    "\n",
    "def make_measurements(true, predicted):\n",
    "    \"\"\" Make and report on lots of measurements of ML performance\n",
    "    metrics.\n",
    "    \"\"\"\n",
    "    f1 = f1_score(true, predicted)\n",
    "    precision = precision_score(true, predicted)\n",
    "    recall = recall_score(true, predicted)\n",
    "    \n",
    "    # Code from user Sedeh at https://stackoverflow.com/questions/33275461/specificity-in-scikit-learn\n",
    "    tn, fp, fn, tp = confusion_matrix(true, predicted).ravel()\n",
    "    specificity = tn / (tn+fp)\n",
    "    \n",
    "    return(\"F1: {:.2f}, precision: {:.2f}, recall: {:.2f}, specificity: {:.2f}\".format(f1, precision, recall, specificity))"
   ]
  },
  {
   "cell_type": "code",
   "execution_count": 3,
   "metadata": {},
   "outputs": [],
   "source": [
    "# Code adapted from <https://scikit-learn.org/stable/auto_examples/model_selection/plot_confusion_matrix.html>\n",
    "def plot_confusion_matrix(y_true, y_pred,\n",
    "                          normalize=False,\n",
    "                          title=None,\n",
    "                          cmap=plt.cm.Blues):\n",
    "    \"\"\"\n",
    "    This function prints and plots the confusion matrix.\n",
    "    Normalization can be applied by setting `normalize=True`.\n",
    "    \"\"\"\n",
    "    if not title:\n",
    "        if normalize:\n",
    "            title = 'Normalized confusion matrix'\n",
    "        else:\n",
    "            title = 'Confusion matrix, without normalization'\n",
    "\n",
    "    # Compute confusion matrix\n",
    "    cm = confusion_matrix(y_true, y_pred)\n",
    "    \n",
    "    if normalize:\n",
    "        cm = cm.astype('float') / cm.sum(axis=1)[:, np.newaxis]\n",
    "        print(\"Normalized confusion matrix\")\n",
    "    else:\n",
    "        print('Confusion matrix, without normalization')\n",
    "\n",
    "    print(cm)\n",
    "\n",
    "    fig, ax = plt.subplots()\n",
    "    im = ax.imshow(cm, interpolation='nearest', cmap=cmap)\n",
    "    ax.figure.colorbar(im, ax=ax)\n",
    "    # We want to show all ticks...\n",
    "    ax.set(xticks=np.arange(cm.shape[1]),\n",
    "           yticks=np.arange(cm.shape[0]),\n",
    "           title=title,\n",
    "           ylabel='True label',\n",
    "           xlabel='Predicted label')\n",
    "\n",
    "    # Loop over data dimensions and create text annotations.\n",
    "    fmt = '.2f' if normalize else 'd'\n",
    "    thresh = cm.max() / 2.\n",
    "    for i in range(cm.shape[0]):\n",
    "        for j in range(cm.shape[1]):\n",
    "            ax.text(j, i, format(cm[i, j], fmt),\n",
    "                    ha=\"center\", va=\"center\",\n",
    "                    color=\"white\" if cm[i, j] > thresh else \"black\")\n",
    "    fig.tight_layout()\n",
    "    return ax\n"
   ]
  },
  {
   "cell_type": "markdown",
   "metadata": {},
   "source": [
    "# a & b)  Classify two expressions from subject A using \"off the shelf\" tech\n",
    "\n",
    "NB;  Extra marks for coding my own implementation of the classifier\n",
    "\n",
    "Initial SVM (rbf) parameters taken as suggested from https://scikit-learn.org/stable/auto_examples/svm/plot_rbf_parameters.html\n",
    "\n",
    "Use these classifiers to classify two expressions from subject B.\n",
    "\n",
    "NB;  Extra marks for using something beyond simple accuracy (recycle ROC curve code?)"
   ]
  },
  {
   "cell_type": "code",
   "execution_count": 4,
   "metadata": {},
   "outputs": [],
   "source": [
    "# This is the model we're going to use for sections a, b and c\n",
    "def setup_svc(cv=10,\n",
    "              pipe_list = [('SVM', LinearSVC())],\n",
    "              svc_parameters = {'SVM__C':np.logspace(-2, 10, 13)}):\n",
    "    \"\"\" Helper function.  Lots of bits for setting up a grid-search\n",
    "    for a linear SVM.\n",
    "    \"\"\"\n",
    "    svc_pipeline = Pipeline(pipe_list)\n",
    "\n",
    "    # Set up a cross-validated grid search\n",
    "    svc_grid = GridSearchCV(svc_pipeline,                # tasks to perform\n",
    "                            param_grid = svc_parameters, # parameters to try\n",
    "                            cv=cv,                       # num cv folds\n",
    "                            scoring='f1',                # score on f1\n",
    "                            n_jobs=-1,                   # use all processors in parallel\n",
    "                            verbose=True)\n",
    "    \n",
    "    return(svc_grid)"
   ]
  },
  {
   "cell_type": "markdown",
   "metadata": {},
   "source": [
    "### SVC - Classifying \"doubt\" expression using subject A\n",
    "\n",
    "This expression was chosen because in the original paper their own classification pipeline performed really well on it (f1 of 0.88 , precision of 0.94 and recall of 0.76 classifying single frames independently, engineered features WITHOUT depth features)."
   ]
  },
  {
   "cell_type": "code",
   "execution_count": 5,
   "metadata": {
    "scrolled": true
   },
   "outputs": [
    {
     "name": "stderr",
     "output_type": "stream",
     "text": [
      "/usr/lib/python3/dist-packages/ipykernel_launcher.py:9: FutureWarning: read_table is deprecated, use read_csv instead.\n",
      "  if __name__ == '__main__':\n",
      "/usr/lib/python3/dist-packages/ipykernel_launcher.py:16: FutureWarning: read_table is deprecated, use read_csv instead.\n",
      "  app.launch_new_instance()\n"
     ]
    }
   ],
   "source": [
    "# Load and preprocess the data\n",
    "X_A_doubt, y_A_doubt = load_features_and_labels(\"a\", \"doubt_question\")\n",
    "X_B_doubt, y_B_doubt = load_features_and_labels(\"b\", \"doubt_question\")"
   ]
  },
  {
   "cell_type": "code",
   "execution_count": 6,
   "metadata": {
    "scrolled": true
   },
   "outputs": [
    {
     "name": "stdout",
     "output_type": "stream",
     "text": [
      "Fitting 10 folds for each of 13 candidates, totalling 130 fits\n"
     ]
    },
    {
     "name": "stderr",
     "output_type": "stream",
     "text": [
      "[Parallel(n_jobs=-1)]: Using backend LokyBackend with 2 concurrent workers.\n",
      "[Parallel(n_jobs=-1)]: Done  46 tasks      | elapsed:  1.2min\n",
      "[Parallel(n_jobs=-1)]: Done 130 out of 130 | elapsed:  3.2min finished\n",
      "/usr/local/lib/python3.6/dist-packages/sklearn/model_selection/_search.py:841: DeprecationWarning: The default of the `iid` parameter will change from True to False in version 0.22 and will be removed in 0.24. This will change numeric results when test-set sizes are unequal.\n",
      "  DeprecationWarning)\n"
     ]
    },
    {
     "name": "stdout",
     "output_type": "stream",
     "text": [
      "{'SVM__C': 0.1}\n",
      "Score:  0.8342393547100664\n"
     ]
    },
    {
     "name": "stderr",
     "output_type": "stream",
     "text": [
      "/usr/local/lib/python3.6/dist-packages/sklearn/svm/base.py:931: ConvergenceWarning: Liblinear failed to converge, increase the number of iterations.\n",
      "  \"the number of iterations.\", ConvergenceWarning)\n"
     ]
    }
   ],
   "source": [
    "random.seed(42)\n",
    "\n",
    "# Model defined at start of section\n",
    "svc_grid = setup_svc()\n",
    "\n",
    "# Fit the model!\n",
    "svc_grid.fit(X_A_doubt, y_A_doubt)\n",
    "\n",
    "# What hyper-parameter combination was chosen?\n",
    "print(svc_grid.best_params_)\n",
    "\n",
    "# Report on performance!\n",
    "print(\"Score: \", svc_grid.best_score_)"
   ]
  },
  {
   "cell_type": "code",
   "execution_count": 7,
   "metadata": {},
   "outputs": [
    {
     "data": {
      "text/plain": [
       "'F1: 0.89, precision: 0.92, recall: 0.87, specificity: 0.95'"
      ]
     },
     "execution_count": 7,
     "metadata": {},
     "output_type": "execute_result"
    }
   ],
   "source": [
    "# Report performance against the training data\n",
    "y_A_doubt_pred = svc_grid.predict(X_A_doubt)\n",
    "make_measurements(y_A_doubt, y_A_doubt_pred)"
   ]
  },
  {
   "cell_type": "code",
   "execution_count": 8,
   "metadata": {},
   "outputs": [
    {
     "name": "stdout",
     "output_type": "stream",
     "text": [
      "Confusion matrix, without normalization\n",
      "[[782  39]\n",
      " [ 63 428]]\n"
     ]
    },
    {
     "data": {
      "text/plain": [
       "<matplotlib.axes._subplots.AxesSubplot at 0x7f68a7387a58>"
      ]
     },
     "execution_count": 8,
     "metadata": {},
     "output_type": "execute_result"
    },
    {
     "data": {
      "image/png": "[encoded data removed]",
      "text/plain": [
       "<Figure size 432x288 with 2 Axes>"
      ]
     },
     "metadata": {},
     "output_type": "display_data"
    }
   ],
   "source": [
    "plot_confusion_matrix(y_A_doubt, y_A_doubt_pred)"
   ]
  },
  {
   "cell_type": "markdown",
   "metadata": {},
   "source": [
    "### SVC - Predicting the \"doubt\" expression for subject B"
   ]
  },
  {
   "cell_type": "code",
   "execution_count": 9,
   "metadata": {},
   "outputs": [
    {
     "data": {
      "text/plain": [
       "'F1: 0.75, precision: 0.61, recall: 0.95, specificity: 0.35'"
      ]
     },
     "execution_count": 9,
     "metadata": {},
     "output_type": "execute_result"
    }
   ],
   "source": [
    "# Report performance against unseen test data\n",
    "y_B_doubt_pred = svc_grid.predict(X_B_doubt)\n",
    "make_measurements(y_B_doubt, y_B_doubt_pred)"
   ]
  },
  {
   "cell_type": "code",
   "execution_count": 10,
   "metadata": {
    "scrolled": true
   },
   "outputs": [
    {
     "name": "stdout",
     "output_type": "stream",
     "text": [
      "Confusion matrix, without normalization\n",
      "[[252 465]\n",
      " [ 40 740]]\n"
     ]
    },
    {
     "data": {
      "text/plain": [
       "<matplotlib.axes._subplots.AxesSubplot at 0x7f689ff4c7f0>"
      ]
     },
     "execution_count": 10,
     "metadata": {},
     "output_type": "execute_result"
    },
    {
     "data": {
      "image/png": "[encoded data removed]",
      "text/plain": [
       "<Figure size 432x288 with 2 Axes>"
      ]
     },
     "metadata": {},
     "output_type": "display_data"
    }
   ],
   "source": [
    "plot_confusion_matrix(y_B_doubt, y_B_doubt_pred)"
   ]
  },
  {
   "cell_type": "markdown",
   "metadata": {},
   "source": [
    "### SVC - Classifying \"negative\" expression using subject A\n",
    "\n",
    "The original author's model performed poorly on this one (f1 score of 0.44, precision of 0.33, recall of 0.66), so after the apparently easier problem of classifying doubt this should give us our relative performance on a hard problem."
   ]
  },
  {
   "cell_type": "code",
   "execution_count": 11,
   "metadata": {
    "scrolled": true
   },
   "outputs": [
    {
     "name": "stderr",
     "output_type": "stream",
     "text": [
      "/usr/lib/python3/dist-packages/ipykernel_launcher.py:9: FutureWarning: read_table is deprecated, use read_csv instead.\n",
      "  if __name__ == '__main__':\n",
      "/usr/lib/python3/dist-packages/ipykernel_launcher.py:16: FutureWarning: read_table is deprecated, use read_csv instead.\n",
      "  app.launch_new_instance()\n"
     ]
    }
   ],
   "source": [
    "# Load and preprocess the data\n",
    "X_A_neg, y_A_neg = load_features_and_labels(\"a\", \"negative\")\n",
    "X_B_neg, y_B_neg = load_features_and_labels(\"b\", \"negative\")"
   ]
  },
  {
   "cell_type": "code",
   "execution_count": 12,
   "metadata": {
    "scrolled": true
   },
   "outputs": [
    {
     "name": "stdout",
     "output_type": "stream",
     "text": [
      "Fitting 10 folds for each of 13 candidates, totalling 130 fits\n"
     ]
    },
    {
     "name": "stderr",
     "output_type": "stream",
     "text": [
      "[Parallel(n_jobs=-1)]: Using backend LokyBackend with 2 concurrent workers.\n",
      "[Parallel(n_jobs=-1)]: Done  46 tasks      | elapsed:  1.0min\n",
      "[Parallel(n_jobs=-1)]: Done 130 out of 130 | elapsed:  2.9min finished\n",
      "/usr/local/lib/python3.6/dist-packages/sklearn/model_selection/_search.py:841: DeprecationWarning: The default of the `iid` parameter will change from True to False in version 0.22 and will be removed in 0.24. This will change numeric results when test-set sizes are unequal.\n",
      "  DeprecationWarning)\n"
     ]
    },
    {
     "name": "stdout",
     "output_type": "stream",
     "text": [
      "{'SVM__C': 0.1}\n",
      "Score:  0.8110573830010827\n"
     ]
    },
    {
     "name": "stderr",
     "output_type": "stream",
     "text": [
      "/usr/local/lib/python3.6/dist-packages/sklearn/svm/base.py:931: ConvergenceWarning: Liblinear failed to converge, increase the number of iterations.\n",
      "  \"the number of iterations.\", ConvergenceWarning)\n"
     ]
    }
   ],
   "source": [
    "random.seed(42)\n",
    "\n",
    "# model defined at start of section\n",
    "svc_grid = setup_svc()\n",
    "\n",
    "# Fit the model!\n",
    "svc_grid.fit(X_A_neg, y_A_neg)\n",
    "\n",
    "# What hyper-parameter combination was chosen?\n",
    "print(svc_grid.best_params_)\n",
    "\n",
    "# Report on performance!\n",
    "print(\"Score: \", svc_grid.best_score_)"
   ]
  },
  {
   "cell_type": "code",
   "execution_count": 13,
   "metadata": {},
   "outputs": [
    {
     "data": {
      "text/plain": [
       "'F1: 0.25, precision: 0.99, recall: 0.14, specificity: 1.00'"
      ]
     },
     "execution_count": 13,
     "metadata": {},
     "output_type": "execute_result"
    }
   ],
   "source": [
    "# Report performance against the training data\n",
    "y_A_neg_pred = svc_grid.predict(X_A_neg)\n",
    "make_measurements(y_A_neg, y_A_neg_pred)"
   ]
  },
  {
   "cell_type": "code",
   "execution_count": 14,
   "metadata": {
    "scrolled": false
   },
   "outputs": [
    {
     "name": "stdout",
     "output_type": "stream",
     "text": [
      "Confusion matrix, without normalization\n",
      "[[595   1]\n",
      " [452  76]]\n"
     ]
    },
    {
     "data": {
      "text/plain": [
       "<matplotlib.axes._subplots.AxesSubplot at 0x7f689fae5e48>"
      ]
     },
     "execution_count": 14,
     "metadata": {},
     "output_type": "execute_result"
    },
    {
     "data": {
      "image/png": "[encoded data removed]",
      "text/plain": [
       "<Figure size 432x288 with 2 Axes>"
      ]
     },
     "metadata": {},
     "output_type": "display_data"
    }
   ],
   "source": [
    "plot_confusion_matrix(y_A_neg, y_A_neg_pred)"
   ]
  },
  {
   "cell_type": "markdown",
   "metadata": {},
   "source": [
    "### SVC - Predicting the \"negative\" expression for subject B"
   ]
  },
  {
   "cell_type": "code",
   "execution_count": 15,
   "metadata": {},
   "outputs": [
    {
     "data": {
      "text/plain": [
       "'F1: 0.01, precision: 0.67, recall: 0.00, specificity: 1.00'"
      ]
     },
     "execution_count": 15,
     "metadata": {},
     "output_type": "execute_result"
    }
   ],
   "source": [
    "# Report performance against unseen test data\n",
    "y_B_neg_pred = svc_grid.predict(X_B_neg)\n",
    "make_measurements(y_B_neg, y_B_neg_pred)"
   ]
  },
  {
   "cell_type": "code",
   "execution_count": 16,
   "metadata": {
    "scrolled": false
   },
   "outputs": [
    {
     "name": "stdout",
     "output_type": "stream",
     "text": [
      "Confusion matrix, without normalization\n",
      "[[869   1]\n",
      " [710   2]]\n"
     ]
    },
    {
     "data": {
      "text/plain": [
       "<matplotlib.axes._subplots.AxesSubplot at 0x7f689fac2be0>"
      ]
     },
     "execution_count": 16,
     "metadata": {},
     "output_type": "execute_result"
    },
    {
     "data": {
      "image/png": "[encoded data removed]",
      "text/plain": [
       "<Figure size 432x288 with 2 Axes>"
      ]
     },
     "metadata": {},
     "output_type": "display_data"
    }
   ],
   "source": [
    "plot_confusion_matrix(y_B_neg, y_B_neg_pred)"
   ]
  },
  {
   "cell_type": "markdown",
   "metadata": {},
   "source": [
    "# c)  Additional Analysis of classifiers - reverse roles!\n",
    "Train on B, classify A, comment on difference!\n",
    "Try again using a different feature representation (eg; PCA.  Can I think of something better?)"
   ]
  },
  {
   "cell_type": "markdown",
   "metadata": {},
   "source": [
    "### SVC - Classifying \"doubt\" expression using subject B (REVERSE)"
   ]
  },
  {
   "cell_type": "code",
   "execution_count": 17,
   "metadata": {
    "scrolled": true
   },
   "outputs": [
    {
     "name": "stdout",
     "output_type": "stream",
     "text": [
      "Fitting 10 folds for each of 13 candidates, totalling 130 fits\n"
     ]
    },
    {
     "name": "stderr",
     "output_type": "stream",
     "text": [
      "[Parallel(n_jobs=-1)]: Using backend LokyBackend with 2 concurrent workers.\n",
      "[Parallel(n_jobs=-1)]: Done  46 tasks      | elapsed:  1.2min\n",
      "[Parallel(n_jobs=-1)]: Done 130 out of 130 | elapsed:  3.5min finished\n",
      "/usr/local/lib/python3.6/dist-packages/sklearn/model_selection/_search.py:841: DeprecationWarning: The default of the `iid` parameter will change from True to False in version 0.22 and will be removed in 0.24. This will change numeric results when test-set sizes are unequal.\n",
      "  DeprecationWarning)\n"
     ]
    },
    {
     "name": "stdout",
     "output_type": "stream",
     "text": [
      "{'SVM__C': 10000000.0}\n",
      "Score:  0.8068364406956108\n"
     ]
    },
    {
     "name": "stderr",
     "output_type": "stream",
     "text": [
      "/usr/local/lib/python3.6/dist-packages/sklearn/svm/base.py:931: ConvergenceWarning: Liblinear failed to converge, increase the number of iterations.\n",
      "  \"the number of iterations.\", ConvergenceWarning)\n"
     ]
    }
   ],
   "source": [
    "random.seed(42)\n",
    "\n",
    "# Model defined at start of section\n",
    "svc_grid = setup_svc()\n",
    "\n",
    "# Fit the model!\n",
    "svc_grid.fit(X_B_doubt, y_B_doubt)\n",
    "\n",
    "# What hyper-parameter combination was chosen?\n",
    "print(svc_grid.best_params_)\n",
    "\n",
    "# Report on performance!\n",
    "print(\"Score: \", svc_grid.best_score_)"
   ]
  },
  {
   "cell_type": "code",
   "execution_count": 18,
   "metadata": {},
   "outputs": [
    {
     "data": {
      "text/plain": [
       "'F1: 0.78, precision: 0.96, recall: 0.66, specificity: 0.97'"
      ]
     },
     "execution_count": 18,
     "metadata": {},
     "output_type": "execute_result"
    }
   ],
   "source": [
    "# Report performance against the training data\n",
    "y_B_doubt_pred = svc_grid.predict(X_B_doubt)\n",
    "make_measurements(y_B_doubt, y_B_doubt_pred)"
   ]
  },
  {
   "cell_type": "code",
   "execution_count": 19,
   "metadata": {},
   "outputs": [
    {
     "name": "stdout",
     "output_type": "stream",
     "text": [
      "Confusion matrix, without normalization\n",
      "[[695  22]\n",
      " [263 517]]\n"
     ]
    },
    {
     "data": {
      "text/plain": [
       "<matplotlib.axes._subplots.AxesSubplot at 0x7f689fac2eb8>"
      ]
     },
     "execution_count": 19,
     "metadata": {},
     "output_type": "execute_result"
    },
    {
     "data": {
      "image/png": "[encoded data removed]",
      "text/plain": [
       "<Figure size 432x288 with 2 Axes>"
      ]
     },
     "metadata": {},
     "output_type": "display_data"
    }
   ],
   "source": [
    "plot_confusion_matrix(y_B_doubt, y_B_doubt_pred)"
   ]
  },
  {
   "cell_type": "markdown",
   "metadata": {},
   "source": [
    "### SVC - Predicting the \"doubt\" expression for subject A"
   ]
  },
  {
   "cell_type": "code",
   "execution_count": 20,
   "metadata": {},
   "outputs": [
    {
     "data": {
      "text/plain": [
       "'F1: 0.31, precision: 0.24, recall: 0.45, specificity: 0.13'"
      ]
     },
     "execution_count": 20,
     "metadata": {},
     "output_type": "execute_result"
    }
   ],
   "source": [
    "# Report performance against unseen test data\n",
    "y_A_doubt_pred = svc_grid.predict(X_A_doubt)\n",
    "make_measurements(y_A_doubt, y_A_doubt_pred)"
   ]
  },
  {
   "cell_type": "code",
   "execution_count": 21,
   "metadata": {
    "scrolled": false
   },
   "outputs": [
    {
     "name": "stdout",
     "output_type": "stream",
     "text": [
      "Confusion matrix, without normalization\n",
      "[[108 713]\n",
      " [270 221]]\n"
     ]
    },
    {
     "data": {
      "text/plain": [
       "<matplotlib.axes._subplots.AxesSubplot at 0x7f689fa4b470>"
      ]
     },
     "execution_count": 21,
     "metadata": {},
     "output_type": "execute_result"
    },
    {
     "data": {
      "image/png": "[encoded data removed]",
      "text/plain": [
       "<Figure size 432x288 with 2 Axes>"
      ]
     },
     "metadata": {},
     "output_type": "display_data"
    }
   ],
   "source": [
    "plot_confusion_matrix(y_A_doubt, y_A_doubt_pred)"
   ]
  },
  {
   "cell_type": "markdown",
   "metadata": {},
   "source": [
    "### SVC - Classifying \"negative\" expression using subject B (REVERSE)"
   ]
  },
  {
   "cell_type": "code",
   "execution_count": 22,
   "metadata": {},
   "outputs": [
    {
     "name": "stdout",
     "output_type": "stream",
     "text": [
      "Fitting 10 folds for each of 13 candidates, totalling 130 fits\n"
     ]
    },
    {
     "name": "stderr",
     "output_type": "stream",
     "text": [
      "[Parallel(n_jobs=-1)]: Using backend LokyBackend with 2 concurrent workers.\n",
      "[Parallel(n_jobs=-1)]: Done  46 tasks      | elapsed:  1.3min\n",
      "[Parallel(n_jobs=-1)]: Done 130 out of 130 | elapsed:  3.6min finished\n",
      "/usr/local/lib/python3.6/dist-packages/sklearn/model_selection/_search.py:841: DeprecationWarning: The default of the `iid` parameter will change from True to False in version 0.22 and will be removed in 0.24. This will change numeric results when test-set sizes are unequal.\n",
      "  DeprecationWarning)\n"
     ]
    },
    {
     "name": "stdout",
     "output_type": "stream",
     "text": [
      "{'SVM__C': 0.1}\n",
      "Score:  0.6661853953554552\n"
     ]
    },
    {
     "name": "stderr",
     "output_type": "stream",
     "text": [
      "/usr/local/lib/python3.6/dist-packages/sklearn/svm/base.py:931: ConvergenceWarning: Liblinear failed to converge, increase the number of iterations.\n",
      "  \"the number of iterations.\", ConvergenceWarning)\n"
     ]
    }
   ],
   "source": [
    "random.seed(42)\n",
    "\n",
    "# model defined at start of section\n",
    "svc_grid = setup_svc()\n",
    "\n",
    "# Fit the model!\n",
    "svc_grid.fit(X_B_neg, y_B_neg)\n",
    "\n",
    "# What hyper-parameter combination was chosen?\n",
    "print(svc_grid.best_params_)\n",
    "\n",
    "# Report on performance!\n",
    "print(\"Score: \", svc_grid.best_score_)"
   ]
  },
  {
   "cell_type": "code",
   "execution_count": 23,
   "metadata": {},
   "outputs": [
    {
     "data": {
      "text/plain": [
       "'F1: 0.79, precision: 0.89, recall: 0.70, specificity: 0.93'"
      ]
     },
     "execution_count": 23,
     "metadata": {},
     "output_type": "execute_result"
    }
   ],
   "source": [
    "# Report performance against unseen test data\n",
    "y_B_neg_pred = svc_grid.predict(X_B_neg)\n",
    "make_measurements(y_B_neg, y_B_neg_pred)"
   ]
  },
  {
   "cell_type": "code",
   "execution_count": 24,
   "metadata": {},
   "outputs": [
    {
     "name": "stdout",
     "output_type": "stream",
     "text": [
      "Confusion matrix, without normalization\n",
      "[[809  61]\n",
      " [212 500]]\n"
     ]
    },
    {
     "data": {
      "text/plain": [
       "<matplotlib.axes._subplots.AxesSubplot at 0x7f689f9f5b70>"
      ]
     },
     "execution_count": 24,
     "metadata": {},
     "output_type": "execute_result"
    },
    {
     "data": {
      "image/png": "[encoded data removed]",
      "text/plain": [
       "<Figure size 432x288 with 2 Axes>"
      ]
     },
     "metadata": {},
     "output_type": "display_data"
    }
   ],
   "source": [
    "plot_confusion_matrix(y_B_neg, y_B_neg_pred)"
   ]
  },
  {
   "cell_type": "markdown",
   "metadata": {},
   "source": [
    "### SVC - Predicting the \"negative\" expression for Subject A"
   ]
  },
  {
   "cell_type": "code",
   "execution_count": 25,
   "metadata": {},
   "outputs": [
    {
     "data": {
      "text/plain": [
       "'F1: 0.38, precision: 0.39, recall: 0.37, specificity: 0.48'"
      ]
     },
     "execution_count": 25,
     "metadata": {},
     "output_type": "execute_result"
    }
   ],
   "source": [
    "# Report performance against unseen test data\n",
    "y_A_neg_pred = svc_grid.predict(X_A_neg)\n",
    "make_measurements(y_A_neg, y_A_neg_pred)"
   ]
  },
  {
   "cell_type": "code",
   "execution_count": 26,
   "metadata": {
    "scrolled": true
   },
   "outputs": [
    {
     "name": "stdout",
     "output_type": "stream",
     "text": [
      "Confusion matrix, without normalization\n",
      "[[288 308]\n",
      " [332 196]]\n"
     ]
    },
    {
     "data": {
      "text/plain": [
       "<matplotlib.axes._subplots.AxesSubplot at 0x7f689f8fa588>"
      ]
     },
     "execution_count": 26,
     "metadata": {},
     "output_type": "execute_result"
    },
    {
     "data": {
      "image/png": "[encoded data removed]",
      "text/plain": [
       "<Figure size 432x288 with 2 Axes>"
      ]
     },
     "metadata": {},
     "output_type": "display_data"
    }
   ],
   "source": [
    "plot_confusion_matrix(y_A_neg, y_A_neg_pred)"
   ]
  },
  {
   "cell_type": "markdown",
   "metadata": {},
   "source": [
    "## Trying a new data representation - independent scaling\n",
    "\n",
    "This is cheating a little - I'm not changing the feature representation much, but it addresses an important issue in this dataset in an appropriate way.\n",
    "\n",
    "A model trained on one user doesn't translate well to another.  This could well be because the model currently depends on absolute positions of features that may be quite different for different people's faces or poses.  To fix this, rather than try anything clever like PCA I'm simply going to independently scale every feature for subject A and subject B.  I'll try something clever in the next section, I promise.\n",
    "\n",
    "It's independent for each subject. The assumptions made are that this will help the model pick out the range of movement of features rather than their absolute positions, and that the same features will move in the same way for different subjects."
   ]
  },
  {
   "cell_type": "markdown",
   "metadata": {},
   "source": [
    "### SVC + Scaling - Classifying \"doubt\" expression using subject A"
   ]
  },
  {
   "cell_type": "code",
   "execution_count": 27,
   "metadata": {},
   "outputs": [
    {
     "name": "stderr",
     "output_type": "stream",
     "text": [
      "/usr/lib/python3/dist-packages/ipykernel_launcher.py:9: FutureWarning: read_table is deprecated, use read_csv instead.\n",
      "  if __name__ == '__main__':\n",
      "/usr/lib/python3/dist-packages/ipykernel_launcher.py:16: FutureWarning: read_table is deprecated, use read_csv instead.\n",
      "  app.launch_new_instance()\n"
     ]
    }
   ],
   "source": [
    "# Load and preprocess the data\n",
    "X_A_doubt, y_A_doubt = load_features_and_labels(\"a\", \"doubt_question\")\n",
    "X_B_doubt, y_B_doubt = load_features_and_labels(\"b\", \"doubt_question\")\n",
    "\n",
    "# Load and preprocess the data\n",
    "X_A_neg, y_A_neg = load_features_and_labels(\"a\", \"negative\")\n",
    "X_B_neg, y_B_neg = load_features_and_labels(\"b\", \"negative\")\n",
    "\n",
    "# Scale all features\n",
    "scaler = StandardScaler()\n",
    "X_A_doubt_s = scaler.fit(X_A_doubt).transform(X_A_doubt)\n",
    "X_B_doubt_s = scaler.fit(X_B_doubt).transform(X_B_doubt)\n",
    "X_A_neg_s = scaler.fit(X_A_neg).transform(X_A_neg)\n",
    "X_B_neg_s = scaler.fit(X_B_neg).transform(X_B_neg)"
   ]
  },
  {
   "cell_type": "code",
   "execution_count": 28,
   "metadata": {
    "scrolled": true
   },
   "outputs": [
    {
     "name": "stdout",
     "output_type": "stream",
     "text": [
      "Fitting 10 folds for each of 13 candidates, totalling 130 fits\n"
     ]
    },
    {
     "name": "stderr",
     "output_type": "stream",
     "text": [
      "[Parallel(n_jobs=-1)]: Using backend LokyBackend with 2 concurrent workers.\n",
      "[Parallel(n_jobs=-1)]: Done  46 tasks      | elapsed:   26.0s\n",
      "[Parallel(n_jobs=-1)]: Done 130 out of 130 | elapsed:  1.4min finished\n"
     ]
    },
    {
     "name": "stdout",
     "output_type": "stream",
     "text": [
      "{'SVM__C': 0.01}\n",
      "Score:  0.8969088054268233\n"
     ]
    }
   ],
   "source": [
    "random.seed(42)\n",
    "\n",
    "# Model defined at start of section\n",
    "svc_grid = setup_svc()\n",
    "\n",
    "# Fit the model!\n",
    "svc_grid.fit(X_A_doubt_s, y_A_doubt)\n",
    "\n",
    "# What hyper-parameter combination was chosen?\n",
    "print(svc_grid.best_params_)\n",
    "\n",
    "# Report on performance!\n",
    "print(\"Score: \", svc_grid.best_score_)"
   ]
  },
  {
   "cell_type": "code",
   "execution_count": 29,
   "metadata": {},
   "outputs": [
    {
     "data": {
      "text/plain": [
       "'F1: 0.92, precision: 0.94, recall: 0.90, specificity: 0.97'"
      ]
     },
     "execution_count": 29,
     "metadata": {},
     "output_type": "execute_result"
    }
   ],
   "source": [
    "# Report performance against the training data\n",
    "y_A_doubt_pred = svc_grid.predict(X_A_doubt_s)\n",
    "make_measurements(y_A_doubt, y_A_doubt_pred)"
   ]
  },
  {
   "cell_type": "code",
   "execution_count": 30,
   "metadata": {},
   "outputs": [
    {
     "name": "stdout",
     "output_type": "stream",
     "text": [
      "Confusion matrix, without normalization\n",
      "[[795  26]\n",
      " [ 48 443]]\n"
     ]
    },
    {
     "data": {
      "text/plain": [
       "<matplotlib.axes._subplots.AxesSubplot at 0x7f689f9019e8>"
      ]
     },
     "execution_count": 30,
     "metadata": {},
     "output_type": "execute_result"
    },
    {
     "data": {
      "image/png": "[encoded data removed]",
      "text/plain": [
       "<Figure size 432x288 with 2 Axes>"
      ]
     },
     "metadata": {},
     "output_type": "display_data"
    }
   ],
   "source": [
    "plot_confusion_matrix(y_A_doubt, y_A_doubt_pred)"
   ]
  },
  {
   "cell_type": "markdown",
   "metadata": {},
   "source": [
    "### SVC + Scaling Predicting the \"doubt\" expression for subject B"
   ]
  },
  {
   "cell_type": "code",
   "execution_count": 31,
   "metadata": {},
   "outputs": [
    {
     "data": {
      "text/plain": [
       "'F1: 0.85, precision: 0.85, recall: 0.84, specificity: 0.84'"
      ]
     },
     "execution_count": 31,
     "metadata": {},
     "output_type": "execute_result"
    }
   ],
   "source": [
    "# Report performance against unseen test data\n",
    "y_B_doubt_pred = svc_grid.predict(X_B_doubt_s)\n",
    "make_measurements(y_B_doubt, y_B_doubt_pred)"
   ]
  },
  {
   "cell_type": "code",
   "execution_count": 32,
   "metadata": {
    "scrolled": false
   },
   "outputs": [
    {
     "name": "stdout",
     "output_type": "stream",
     "text": [
      "Confusion matrix, without normalization\n",
      "[[605 112]\n",
      " [125 655]]\n"
     ]
    },
    {
     "data": {
      "text/plain": [
       "<matplotlib.axes._subplots.AxesSubplot at 0x7f689f812a90>"
      ]
     },
     "execution_count": 32,
     "metadata": {},
     "output_type": "execute_result"
    },
    {
     "data": {
      "image/png": "[encoded data removed]",
      "text/plain": [
       "<Figure size 432x288 with 2 Axes>"
      ]
     },
     "metadata": {},
     "output_type": "display_data"
    }
   ],
   "source": [
    "plot_confusion_matrix(y_B_doubt, y_B_doubt_pred)"
   ]
  },
  {
   "cell_type": "markdown",
   "metadata": {},
   "source": [
    "### SVC + Scaling - Classifying \"negative\" expression using subject A"
   ]
  },
  {
   "cell_type": "code",
   "execution_count": 33,
   "metadata": {
    "scrolled": true
   },
   "outputs": [
    {
     "name": "stdout",
     "output_type": "stream",
     "text": [
      "Fitting 10 folds for each of 13 candidates, totalling 130 fits\n"
     ]
    },
    {
     "name": "stderr",
     "output_type": "stream",
     "text": [
      "[Parallel(n_jobs=-1)]: Using backend LokyBackend with 2 concurrent workers.\n",
      "[Parallel(n_jobs=-1)]: Done  46 tasks      | elapsed:   34.0s\n",
      "[Parallel(n_jobs=-1)]: Done 130 out of 130 | elapsed:  1.8min finished\n",
      "/usr/local/lib/python3.6/dist-packages/sklearn/model_selection/_search.py:841: DeprecationWarning: The default of the `iid` parameter will change from True to False in version 0.22 and will be removed in 0.24. This will change numeric results when test-set sizes are unequal.\n",
      "  DeprecationWarning)\n"
     ]
    },
    {
     "name": "stdout",
     "output_type": "stream",
     "text": [
      "{'SVM__C': 0.01}\n",
      "Score:  0.9024392777893201\n"
     ]
    }
   ],
   "source": [
    "random.seed(42)\n",
    "\n",
    "# model defined at start of section\n",
    "svc_grid = setup_svc()\n",
    "\n",
    "# Fit the model!\n",
    "svc_grid.fit(X_A_neg_s, y_A_neg)\n",
    "\n",
    "# What hyper-parameter combination was chosen?\n",
    "print(svc_grid.best_params_)\n",
    "\n",
    "# Report on performance!\n",
    "print(\"Score: \", svc_grid.best_score_)"
   ]
  },
  {
   "cell_type": "code",
   "execution_count": 34,
   "metadata": {},
   "outputs": [
    {
     "data": {
      "text/plain": [
       "'F1: 0.91, precision: 0.92, recall: 0.91, specificity: 0.93'"
      ]
     },
     "execution_count": 34,
     "metadata": {},
     "output_type": "execute_result"
    }
   ],
   "source": [
    "# Report performance against the training data\n",
    "y_A_neg_pred = svc_grid.predict(X_A_neg_s)\n",
    "make_measurements(y_A_neg, y_A_neg_pred)"
   ]
  },
  {
   "cell_type": "code",
   "execution_count": 35,
   "metadata": {
    "scrolled": false
   },
   "outputs": [
    {
     "name": "stdout",
     "output_type": "stream",
     "text": [
      "Confusion matrix, without normalization\n",
      "[[557  39]\n",
      " [ 50 478]]\n"
     ]
    },
    {
     "data": {
      "text/plain": [
       "<matplotlib.axes._subplots.AxesSubplot at 0x7f68a767e828>"
      ]
     },
     "execution_count": 35,
     "metadata": {},
     "output_type": "execute_result"
    },
    {
     "data": {
      "image/png": "[encoded data removed]",
      "text/plain": [
       "<Figure size 432x288 with 2 Axes>"
      ]
     },
     "metadata": {},
     "output_type": "display_data"
    }
   ],
   "source": [
    "plot_confusion_matrix(y_A_neg, y_A_neg_pred)"
   ]
  },
  {
   "cell_type": "markdown",
   "metadata": {},
   "source": [
    "### SVC + Scaling - Predicting the \"negative\" expression for subject B"
   ]
  },
  {
   "cell_type": "code",
   "execution_count": 36,
   "metadata": {},
   "outputs": [
    {
     "data": {
      "text/plain": [
       "'F1: 0.53, precision: 0.51, recall: 0.54, specificity: 0.58'"
      ]
     },
     "execution_count": 36,
     "metadata": {},
     "output_type": "execute_result"
    }
   ],
   "source": [
    "# Report performance against unseen test data\n",
    "y_B_neg_pred = svc_grid.predict(X_B_neg_s)\n",
    "make_measurements(y_B_neg, y_B_neg_pred)"
   ]
  },
  {
   "cell_type": "code",
   "execution_count": 37,
   "metadata": {
    "scrolled": true
   },
   "outputs": [
    {
     "name": "stdout",
     "output_type": "stream",
     "text": [
      "Confusion matrix, without normalization\n",
      "[[506 364]\n",
      " [327 385]]\n"
     ]
    },
    {
     "data": {
      "text/plain": [
       "<matplotlib.axes._subplots.AxesSubplot at 0x7f68a769eb00>"
      ]
     },
     "execution_count": 37,
     "metadata": {},
     "output_type": "execute_result"
    },
    {
     "data": {
      "image/png": "[encoded data removed]",
      "text/plain": [
       "<Figure size 432x288 with 2 Axes>"
      ]
     },
     "metadata": {},
     "output_type": "display_data"
    }
   ],
   "source": [
    "plot_confusion_matrix(y_B_neg, y_B_neg_pred)"
   ]
  },
  {
   "cell_type": "markdown",
   "metadata": {},
   "source": [
    "### SVC + Scaling - Classifying the \"doubt\" expression using subject B (REVERSE)"
   ]
  },
  {
   "cell_type": "code",
   "execution_count": 38,
   "metadata": {
    "scrolled": true
   },
   "outputs": [
    {
     "name": "stdout",
     "output_type": "stream",
     "text": [
      "Fitting 10 folds for each of 13 candidates, totalling 130 fits\n"
     ]
    },
    {
     "name": "stderr",
     "output_type": "stream",
     "text": [
      "[Parallel(n_jobs=-1)]: Using backend LokyBackend with 2 concurrent workers.\n",
      "[Parallel(n_jobs=-1)]: Done  46 tasks      | elapsed:   35.7s\n",
      "[Parallel(n_jobs=-1)]: Done 130 out of 130 | elapsed:  2.0min finished\n",
      "/usr/local/lib/python3.6/dist-packages/sklearn/model_selection/_search.py:841: DeprecationWarning: The default of the `iid` parameter will change from True to False in version 0.22 and will be removed in 0.24. This will change numeric results when test-set sizes are unequal.\n",
      "  DeprecationWarning)\n"
     ]
    },
    {
     "name": "stdout",
     "output_type": "stream",
     "text": [
      "{'SVM__C': 0.01}\n",
      "Score:  0.888685909090732\n"
     ]
    }
   ],
   "source": [
    "random.seed(42)\n",
    "\n",
    "# Model defined at start of section\n",
    "svc_grid = setup_svc()\n",
    "\n",
    "# Fit the model!\n",
    "svc_grid.fit(X_B_doubt_s, y_B_doubt)\n",
    "\n",
    "# What hyper-parameter combination was chosen?\n",
    "print(svc_grid.best_params_)\n",
    "\n",
    "# Report on performance!\n",
    "print(\"Score: \", svc_grid.best_score_)"
   ]
  },
  {
   "cell_type": "code",
   "execution_count": 39,
   "metadata": {},
   "outputs": [
    {
     "data": {
      "text/plain": [
       "'F1: 0.94, precision: 0.94, recall: 0.94, specificity: 0.93'"
      ]
     },
     "execution_count": 39,
     "metadata": {},
     "output_type": "execute_result"
    }
   ],
   "source": [
    "# Report performance against the training data\n",
    "y_B_doubt_pred = svc_grid.predict(X_B_doubt_s)\n",
    "make_measurements(y_B_doubt, y_B_doubt_pred)"
   ]
  },
  {
   "cell_type": "code",
   "execution_count": 40,
   "metadata": {},
   "outputs": [
    {
     "name": "stdout",
     "output_type": "stream",
     "text": [
      "Confusion matrix, without normalization\n",
      "[[670  47]\n",
      " [ 49 731]]\n"
     ]
    },
    {
     "data": {
      "text/plain": [
       "<matplotlib.axes._subplots.AxesSubplot at 0x7f68a767e630>"
      ]
     },
     "execution_count": 40,
     "metadata": {},
     "output_type": "execute_result"
    },
    {
     "data": {
      "image/png": "[encoded data removed]",
      "text/plain": [
       "<Figure size 432x288 with 2 Axes>"
      ]
     },
     "metadata": {},
     "output_type": "display_data"
    }
   ],
   "source": [
    "plot_confusion_matrix(y_B_doubt, y_B_doubt_pred)"
   ]
  },
  {
   "cell_type": "markdown",
   "metadata": {},
   "source": [
    "### SVC + Scaling - Predicting the \"doubt\" expression for subject A"
   ]
  },
  {
   "cell_type": "code",
   "execution_count": 41,
   "metadata": {},
   "outputs": [
    {
     "data": {
      "text/plain": [
       "'F1: 0.87, precision: 0.85, recall: 0.90, specificity: 0.91'"
      ]
     },
     "execution_count": 41,
     "metadata": {},
     "output_type": "execute_result"
    }
   ],
   "source": [
    "# Report performance against unseen test data\n",
    "y_A_doubt_pred = svc_grid.predict(X_A_doubt_s)\n",
    "make_measurements(y_A_doubt, y_A_doubt_pred)"
   ]
  },
  {
   "cell_type": "code",
   "execution_count": 42,
   "metadata": {
    "scrolled": false
   },
   "outputs": [
    {
     "name": "stdout",
     "output_type": "stream",
     "text": [
      "Confusion matrix, without normalization\n",
      "[[745  76]\n",
      " [ 51 440]]\n"
     ]
    },
    {
     "data": {
      "text/plain": [
       "<matplotlib.axes._subplots.AxesSubplot at 0x7f68a758cc18>"
      ]
     },
     "execution_count": 42,
     "metadata": {},
     "output_type": "execute_result"
    },
    {
     "data": {
      "image/png": "[encoded data removed]",
      "text/plain": [
       "<Figure size 432x288 with 2 Axes>"
      ]
     },
     "metadata": {},
     "output_type": "display_data"
    }
   ],
   "source": [
    "plot_confusion_matrix(y_A_doubt, y_A_doubt_pred)"
   ]
  },
  {
   "cell_type": "markdown",
   "metadata": {},
   "source": [
    "### SVC + Scaling - Classifying \"negative\" expression using subject B (REVERSE)"
   ]
  },
  {
   "cell_type": "code",
   "execution_count": 43,
   "metadata": {
    "scrolled": true
   },
   "outputs": [
    {
     "name": "stdout",
     "output_type": "stream",
     "text": [
      "Fitting 10 folds for each of 13 candidates, totalling 130 fits\n"
     ]
    },
    {
     "name": "stderr",
     "output_type": "stream",
     "text": [
      "[Parallel(n_jobs=-1)]: Using backend LokyBackend with 2 concurrent workers.\n",
      "[Parallel(n_jobs=-1)]: Done  46 tasks      | elapsed:   49.7s\n",
      "[Parallel(n_jobs=-1)]: Done 130 out of 130 | elapsed:  2.7min finished\n"
     ]
    },
    {
     "name": "stdout",
     "output_type": "stream",
     "text": [
      "{'SVM__C': 10000.0}\n",
      "Score:  0.708477460390038\n"
     ]
    },
    {
     "name": "stderr",
     "output_type": "stream",
     "text": [
      "/usr/local/lib/python3.6/dist-packages/sklearn/svm/base.py:931: ConvergenceWarning: Liblinear failed to converge, increase the number of iterations.\n",
      "  \"the number of iterations.\", ConvergenceWarning)\n"
     ]
    }
   ],
   "source": [
    "random.seed(42)\n",
    "\n",
    "# model defined at start of section\n",
    "svc_grid = setup_svc()\n",
    "\n",
    "# Fit the model!\n",
    "svc_grid.fit(X_B_neg_s, y_B_neg)\n",
    "\n",
    "# What hyper-parameter combination was chosen?\n",
    "print(svc_grid.best_params_)\n",
    "\n",
    "# Report on performance!\n",
    "print(\"Score: \", svc_grid.best_score_)"
   ]
  },
  {
   "cell_type": "code",
   "execution_count": 44,
   "metadata": {},
   "outputs": [
    {
     "data": {
      "text/plain": [
       "'F1: 0.81, precision: 0.86, recall: 0.77, specificity: 0.90'"
      ]
     },
     "execution_count": 44,
     "metadata": {},
     "output_type": "execute_result"
    }
   ],
   "source": [
    "# Report performance against the training data\n",
    "y_B_neg_pred = svc_grid.predict(X_B_neg_s)\n",
    "make_measurements(y_B_neg, y_B_neg_pred)"
   ]
  },
  {
   "cell_type": "code",
   "execution_count": 45,
   "metadata": {
    "scrolled": false
   },
   "outputs": [
    {
     "name": "stdout",
     "output_type": "stream",
     "text": [
      "Confusion matrix, without normalization\n",
      "[[781  89]\n",
      " [166 546]]\n"
     ]
    },
    {
     "data": {
      "text/plain": [
       "<matplotlib.axes._subplots.AxesSubplot at 0x7f68a7491c18>"
      ]
     },
     "execution_count": 45,
     "metadata": {},
     "output_type": "execute_result"
    },
    {
     "data": {
      "image/png": "[encoded data removed]",
      "text/plain": [
       "<Figure size 432x288 with 2 Axes>"
      ]
     },
     "metadata": {},
     "output_type": "display_data"
    }
   ],
   "source": [
    "plot_confusion_matrix(y_B_neg, y_B_neg_pred)"
   ]
  },
  {
   "cell_type": "markdown",
   "metadata": {},
   "source": [
    "### SVC + Scaling - Predicting the \"negative\" expression for subject A"
   ]
  },
  {
   "cell_type": "code",
   "execution_count": 46,
   "metadata": {},
   "outputs": [
    {
     "data": {
      "text/plain": [
       "'F1: 0.52, precision: 0.49, recall: 0.55, specificity: 0.48'"
      ]
     },
     "execution_count": 46,
     "metadata": {},
     "output_type": "execute_result"
    }
   ],
   "source": [
    "# Report performance against unseen test data\n",
    "y_A_neg_pred = svc_grid.predict(X_A_neg_s)\n",
    "make_measurements(y_A_neg, y_A_neg_pred)"
   ]
  },
  {
   "cell_type": "code",
   "execution_count": 47,
   "metadata": {
    "scrolled": false
   },
   "outputs": [
    {
     "name": "stdout",
     "output_type": "stream",
     "text": [
      "Confusion matrix, without normalization\n",
      "[[289 307]\n",
      " [237 291]]\n"
     ]
    },
    {
     "data": {
      "text/plain": [
       "<matplotlib.axes._subplots.AxesSubplot at 0x7f68a743f780>"
      ]
     },
     "execution_count": 47,
     "metadata": {},
     "output_type": "execute_result"
    },
    {
     "data": {
      "image/png": "[encoded data removed]",
      "text/plain": [
       "<Figure size 432x288 with 2 Axes>"
      ]
     },
     "metadata": {},
     "output_type": "display_data"
    }
   ],
   "source": [
    "plot_confusion_matrix(y_A_neg, y_A_neg_pred)"
   ]
  },
  {
   "cell_type": "markdown",
   "metadata": {},
   "source": [
    "# d)  pt1 - Implement a different classifier\n",
    "\n",
    "Training on single expression, testing (on B?) and extra marks for own implementation\n",
    "Training and testing on a SECOND expression.\n",
    "The same by inverting roles\n",
    "Repeating with a different feature representation again!  \n",
    "REF;  for last, try multiclass classifier on principle there should be some shared information?  Data imbalance problem\n",
    "\n",
    "For this, because I'm getting bored, we're going to skip a few steps.  I'm going to train a Gradient Boosted Trees algorithm on the \"doubts\" question subject A, evaluate on B, and then I'm going to implement NNMF and see how that improves things.  I'll invert roles if I feel like it, I'm feeling bored of that game after 12 confusion matrices so far.\n",
    "\n",
    "I'm maintaining independent scaling of subject's features since it was so useful in the last step too."
   ]
  },
  {
   "cell_type": "code",
   "execution_count": 48,
   "metadata": {},
   "outputs": [],
   "source": [
    "# This is the model we're going to use for section d.\n",
    "def setup_gbt(cv=10,\n",
    "              pipe_list = [('GBT', XGBClassifier(n_estimators=300))],\n",
    "              gbt_parameters = {'GBT__max_depth':range(2, 11)}):\n",
    "    \"\"\" Helper function.  Lots of bits for setting up a grid-search\n",
    "    for gbt.\n",
    "    \"\"\"\n",
    "    gbt_pipeline = Pipeline(pipe_list)\n",
    "\n",
    "    # Set up a cross-validated grid search\n",
    "    gbt_grid = GridSearchCV(gbt_pipeline,                # tasks to perform\n",
    "                            param_grid = gbt_parameters, # parameters to try\n",
    "                            cv=cv,                       # num cv folds\n",
    "                            scoring='f1',          # score on accuracy\n",
    "                            n_jobs=-1,                   # use all processors in parallel\n",
    "                            verbose=True)\n",
    "    \n",
    "    return(gbt_grid)\n",
    "\n",
    "# This is the model we're going to use for section d.\n",
    "# Fun fact:  If each pipeline component doesn't have at least\n",
    "# one named argument this fails for no good reason!\n",
    "def setup_gbt_nmf(cv=10,\n",
    "                  pipe_list = [('NMF', NMF(solver=\"cd\")),\n",
    "                               ('GBT', XGBClassifier(n_estimators=300))],\n",
    "                  gbt_parameters = {'GBT__max_depth':range(2, 11),\n",
    "                                    'NMF__n_components':[26, 28, 29, 30, 31, 32, 34, 36]}):\n",
    "    \"\"\" Helper function.  Lots of bits for setting up a grid-search\n",
    "    for gbt.\n",
    "    \"\"\"\n",
    "    gbt_pipeline = Pipeline(pipe_list)\n",
    "\n",
    "    # Set up a cross-validated grid search\n",
    "    gbt_grid = GridSearchCV(gbt_pipeline,                # tasks to perform\n",
    "                            param_grid = gbt_parameters, # parameters to try\n",
    "                            cv=cv,                       # num cv folds\n",
    "                            scoring='f1',          # score on accuracy\n",
    "                            n_jobs=-1,                   # use all processors in parallel\n",
    "                            verbose=True)\n",
    "    \n",
    "    return(gbt_grid)"
   ]
  },
  {
   "cell_type": "code",
   "execution_count": 49,
   "metadata": {},
   "outputs": [
    {
     "name": "stderr",
     "output_type": "stream",
     "text": [
      "/usr/lib/python3/dist-packages/ipykernel_launcher.py:9: FutureWarning: read_table is deprecated, use read_csv instead.\n",
      "  if __name__ == '__main__':\n",
      "/usr/lib/python3/dist-packages/ipykernel_launcher.py:16: FutureWarning: read_table is deprecated, use read_csv instead.\n",
      "  app.launch_new_instance()\n"
     ]
    }
   ],
   "source": [
    "# Load and preprocess the data\n",
    "X_A_doubt, y_A_doubt = load_features_and_labels(\"a\", \"doubt_question\")\n",
    "X_B_doubt, y_B_doubt = load_features_and_labels(\"b\", \"doubt_question\")\n",
    "\n",
    "# Load and preprocess the data\n",
    "X_A_neg, y_A_neg = load_features_and_labels(\"a\", \"negative\")\n",
    "X_B_neg, y_B_neg = load_features_and_labels(\"b\", \"negative\")\n",
    "\n",
    "# Scale all features\n",
    "scaler = StandardScaler()\n",
    "X_A_doubt_s = scaler.fit(X_A_doubt).transform(X_A_doubt)\n",
    "X_B_doubt_s = scaler.fit(X_B_doubt).transform(X_B_doubt)\n",
    "X_A_neg_s = scaler.fit(X_A_neg).transform(X_A_neg)\n",
    "X_B_neg_s = scaler.fit(X_B_neg).transform(X_B_neg)"
   ]
  },
  {
   "cell_type": "markdown",
   "metadata": {},
   "source": [
    "### GBT + Scaling - Classifying the \"doubt\" expression using subject A"
   ]
  },
  {
   "cell_type": "code",
   "execution_count": 50,
   "metadata": {},
   "outputs": [
    {
     "name": "stdout",
     "output_type": "stream",
     "text": [
      "Fitting 10 folds for each of 9 candidates, totalling 90 fits\n"
     ]
    },
    {
     "name": "stderr",
     "output_type": "stream",
     "text": [
      "[Parallel(n_jobs=-1)]: Using backend LokyBackend with 2 concurrent workers.\n",
      "[Parallel(n_jobs=-1)]: Done  46 tasks      | elapsed:  5.4min\n",
      "[Parallel(n_jobs=-1)]: Done  90 out of  90 | elapsed: 11.5min finished\n"
     ]
    },
    {
     "name": "stdout",
     "output_type": "stream",
     "text": [
      "{'GBT__max_depth': 7}\n",
      "Score:  0.895303328002232\n"
     ]
    }
   ],
   "source": [
    "random.seed(42)\n",
    "\n",
    "# model defined at start of section\n",
    "gbt_grid = setup_gbt()\n",
    "\n",
    "# Fit the model!\n",
    "gbt_grid.fit(X_A_doubt_s, y_A_doubt)\n",
    "\n",
    "# What hyper-parameter combination was chosen?\n",
    "print(gbt_grid.best_params_)\n",
    "\n",
    "# Report on performance!\n",
    "print(\"Score: \", gbt_grid.best_score_)"
   ]
  },
  {
   "cell_type": "code",
   "execution_count": 51,
   "metadata": {},
   "outputs": [
    {
     "data": {
      "text/plain": [
       "'F1: 1.00, precision: 1.00, recall: 1.00, specificity: 1.00'"
      ]
     },
     "execution_count": 51,
     "metadata": {},
     "output_type": "execute_result"
    }
   ],
   "source": [
    "# Report performance against the training data\n",
    "y_A_doubt_pred = gbt_grid.predict(X_A_doubt_s)\n",
    "make_measurements(y_A_doubt, y_A_doubt_pred)"
   ]
  },
  {
   "cell_type": "code",
   "execution_count": 52,
   "metadata": {
    "scrolled": false
   },
   "outputs": [
    {
     "name": "stdout",
     "output_type": "stream",
     "text": [
      "Confusion matrix, without normalization\n",
      "[[821   0]\n",
      " [  0 491]]\n"
     ]
    },
    {
     "data": {
      "text/plain": [
       "<matplotlib.axes._subplots.AxesSubplot at 0x7f68a72a4c18>"
      ]
     },
     "execution_count": 52,
     "metadata": {},
     "output_type": "execute_result"
    },
    {
     "data": {
      "image/png": "[encoded data removed]",
      "text/plain": [
       "<Figure size 432x288 with 2 Axes>"
      ]
     },
     "metadata": {},
     "output_type": "display_data"
    }
   ],
   "source": [
    "plot_confusion_matrix(y_A_doubt, y_A_doubt_pred)"
   ]
  },
  {
   "cell_type": "markdown",
   "metadata": {},
   "source": [
    "### GBT + Scaling -  Predicting the \"doubt\" expression for subject B"
   ]
  },
  {
   "cell_type": "code",
   "execution_count": 53,
   "metadata": {},
   "outputs": [
    {
     "data": {
      "text/plain": [
       "'F1: 0.84, precision: 0.83, recall: 0.87, specificity: 0.80'"
      ]
     },
     "execution_count": 53,
     "metadata": {},
     "output_type": "execute_result"
    }
   ],
   "source": [
    "# Report performance against unseen test data\n",
    "y_B_doubt_pred = gbt_grid.predict(X_B_doubt_s)\n",
    "make_measurements(y_B_doubt, y_B_doubt_pred)"
   ]
  },
  {
   "cell_type": "code",
   "execution_count": 54,
   "metadata": {
    "scrolled": true
   },
   "outputs": [
    {
     "name": "stdout",
     "output_type": "stream",
     "text": [
      "Confusion matrix, without normalization\n",
      "[[574 143]\n",
      " [105 675]]\n"
     ]
    },
    {
     "data": {
      "text/plain": [
       "<matplotlib.axes._subplots.AxesSubplot at 0x7f68a7277f28>"
      ]
     },
     "execution_count": 54,
     "metadata": {},
     "output_type": "execute_result"
    },
    {
     "data": {
      "image/png": "[encoded data removed]",
      "text/plain": [
       "<Figure size 432x288 with 2 Axes>"
      ]
     },
     "metadata": {},
     "output_type": "display_data"
    }
   ],
   "source": [
    "plot_confusion_matrix(y_B_doubt, y_B_doubt_pred)"
   ]
  },
  {
   "cell_type": "markdown",
   "metadata": {},
   "source": [
    "### GBT + Scaling - Classifying the \"negative\" expression using subject A"
   ]
  },
  {
   "cell_type": "code",
   "execution_count": 55,
   "metadata": {},
   "outputs": [
    {
     "name": "stdout",
     "output_type": "stream",
     "text": [
      "Fitting 10 folds for each of 9 candidates, totalling 90 fits\n"
     ]
    },
    {
     "name": "stderr",
     "output_type": "stream",
     "text": [
      "[Parallel(n_jobs=-1)]: Using backend LokyBackend with 2 concurrent workers.\n",
      "[Parallel(n_jobs=-1)]: Done  46 tasks      | elapsed:  4.4min\n",
      "[Parallel(n_jobs=-1)]: Done  90 out of  90 | elapsed:  9.3min finished\n",
      "/usr/local/lib/python3.6/dist-packages/sklearn/model_selection/_search.py:841: DeprecationWarning: The default of the `iid` parameter will change from True to False in version 0.22 and will be removed in 0.24. This will change numeric results when test-set sizes are unequal.\n",
      "  DeprecationWarning)\n"
     ]
    },
    {
     "name": "stdout",
     "output_type": "stream",
     "text": [
      "{'GBT__max_depth': 5}\n",
      "Score:  0.8890160143060869\n"
     ]
    }
   ],
   "source": [
    "random.seed(42)\n",
    "\n",
    "# model defined at start of section\n",
    "gbt_grid = setup_gbt()\n",
    "\n",
    "# Fit the model!\n",
    "gbt_grid.fit(X_A_neg_s, y_A_neg)\n",
    "\n",
    "# What hyper-parameter combination was chosen?\n",
    "print(gbt_grid.best_params_)\n",
    "\n",
    "# Report on performance!\n",
    "print(\"Score: \", gbt_grid.best_score_)"
   ]
  },
  {
   "cell_type": "code",
   "execution_count": 56,
   "metadata": {},
   "outputs": [
    {
     "data": {
      "text/plain": [
       "'F1: 1.00, precision: 1.00, recall: 1.00, specificity: 1.00'"
      ]
     },
     "execution_count": 56,
     "metadata": {},
     "output_type": "execute_result"
    }
   ],
   "source": [
    "# Report performance against the training data\n",
    "y_A_neg_pred = gbt_grid.predict(X_A_neg_s)\n",
    "make_measurements(y_A_neg, y_A_neg_pred)"
   ]
  },
  {
   "cell_type": "code",
   "execution_count": 57,
   "metadata": {
    "scrolled": false
   },
   "outputs": [
    {
     "name": "stdout",
     "output_type": "stream",
     "text": [
      "Confusion matrix, without normalization\n",
      "[[596   0]\n",
      " [  0 528]]\n"
     ]
    },
    {
     "data": {
      "text/plain": [
       "<matplotlib.axes._subplots.AxesSubplot at 0x7f68a72a1fd0>"
      ]
     },
     "execution_count": 57,
     "metadata": {},
     "output_type": "execute_result"
    },
    {
     "data": {
      "image/png": "[encoded data removed]",
      "text/plain": [
       "<Figure size 432x288 with 2 Axes>"
      ]
     },
     "metadata": {},
     "output_type": "display_data"
    }
   ],
   "source": [
    "plot_confusion_matrix(y_A_neg, y_A_neg_pred)"
   ]
  },
  {
   "cell_type": "markdown",
   "metadata": {},
   "source": [
    "### GBT + Scaling - Predicting the \"negative\" expression for subject B"
   ]
  },
  {
   "cell_type": "code",
   "execution_count": 58,
   "metadata": {},
   "outputs": [
    {
     "data": {
      "text/plain": [
       "'F1: 0.54, precision: 0.44, recall: 0.68, specificity: 0.29'"
      ]
     },
     "execution_count": 58,
     "metadata": {},
     "output_type": "execute_result"
    }
   ],
   "source": [
    "# Report performance against unseen test data\n",
    "y_B_neg_pred = gbt_grid.predict(X_B_neg_s)\n",
    "make_measurements(y_B_neg, y_B_neg_pred)"
   ]
  },
  {
   "cell_type": "code",
   "execution_count": 59,
   "metadata": {
    "scrolled": true
   },
   "outputs": [
    {
     "name": "stdout",
     "output_type": "stream",
     "text": [
      "Confusion matrix, without normalization\n",
      "[[252 618]\n",
      " [226 486]]\n"
     ]
    },
    {
     "data": {
      "text/plain": [
       "<matplotlib.axes._subplots.AxesSubplot at 0x7f68a736fdd8>"
      ]
     },
     "execution_count": 59,
     "metadata": {},
     "output_type": "execute_result"
    },
    {
     "data": {
      "image/png": "[encoded data removed]",
      "text/plain": [
       "<Figure size 432x288 with 2 Axes>"
      ]
     },
     "metadata": {},
     "output_type": "display_data"
    }
   ],
   "source": [
    "plot_confusion_matrix(y_B_neg, y_B_neg_pred)"
   ]
  },
  {
   "cell_type": "markdown",
   "metadata": {},
   "source": [
    "### GBT + Scaling - Classifying the \"doubt\" expression using subject B (REVERSE)"
   ]
  },
  {
   "cell_type": "code",
   "execution_count": 60,
   "metadata": {},
   "outputs": [
    {
     "name": "stdout",
     "output_type": "stream",
     "text": [
      "Fitting 10 folds for each of 9 candidates, totalling 90 fits\n"
     ]
    },
    {
     "name": "stderr",
     "output_type": "stream",
     "text": [
      "[Parallel(n_jobs=-1)]: Using backend LokyBackend with 2 concurrent workers.\n",
      "[Parallel(n_jobs=-1)]: Done  46 tasks      | elapsed:  6.0min\n",
      "[Parallel(n_jobs=-1)]: Done  90 out of  90 | elapsed: 12.7min finished\n"
     ]
    },
    {
     "name": "stdout",
     "output_type": "stream",
     "text": [
      "{'GBT__max_depth': 3}\n",
      "Score:  0.884974211833123\n"
     ]
    }
   ],
   "source": [
    "random.seed(42)\n",
    "\n",
    "# model defined at start of section\n",
    "gbt_grid = setup_gbt()\n",
    "\n",
    "# Fit the model!\n",
    "gbt_grid.fit(X_B_doubt_s, y_B_doubt)\n",
    "\n",
    "# What hyper-parameter combination was chosen?\n",
    "print(gbt_grid.best_params_)\n",
    "\n",
    "# Report on performance!\n",
    "print(\"Score: \", gbt_grid.best_score_)"
   ]
  },
  {
   "cell_type": "code",
   "execution_count": 61,
   "metadata": {},
   "outputs": [
    {
     "data": {
      "text/plain": [
       "'F1: 1.00, precision: 1.00, recall: 1.00, specificity: 1.00'"
      ]
     },
     "execution_count": 61,
     "metadata": {},
     "output_type": "execute_result"
    }
   ],
   "source": [
    "# Report performance against the training data\n",
    "y_B_doubt_pred = gbt_grid.predict(X_B_doubt_s)\n",
    "make_measurements(y_B_doubt, y_B_doubt_pred)"
   ]
  },
  {
   "cell_type": "code",
   "execution_count": 62,
   "metadata": {
    "scrolled": false
   },
   "outputs": [
    {
     "name": "stdout",
     "output_type": "stream",
     "text": [
      "Confusion matrix, without normalization\n",
      "[[717   0]\n",
      " [  0 780]]\n"
     ]
    },
    {
     "data": {
      "text/plain": [
       "<matplotlib.axes._subplots.AxesSubplot at 0x7f68a718a198>"
      ]
     },
     "execution_count": 62,
     "metadata": {},
     "output_type": "execute_result"
    },
    {
     "data": {
      "image/png": "[encoded data removed]",
      "text/plain": [
       "<Figure size 432x288 with 2 Axes>"
      ]
     },
     "metadata": {},
     "output_type": "display_data"
    }
   ],
   "source": [
    "plot_confusion_matrix(y_B_doubt, y_B_doubt_pred)"
   ]
  },
  {
   "cell_type": "markdown",
   "metadata": {},
   "source": [
    "### GBT + Scaling - Predicting the \"doubt\" expression for subject A"
   ]
  },
  {
   "cell_type": "code",
   "execution_count": 63,
   "metadata": {},
   "outputs": [
    {
     "data": {
      "text/plain": [
       "'F1: 0.84, precision: 0.83, recall: 0.86, specificity: 0.89'"
      ]
     },
     "execution_count": 63,
     "metadata": {},
     "output_type": "execute_result"
    }
   ],
   "source": [
    "# Report performance against unseen test data\n",
    "y_A_doubt_pred = gbt_grid.predict(X_A_doubt_s)\n",
    "make_measurements(y_A_doubt, y_A_doubt_pred)"
   ]
  },
  {
   "cell_type": "code",
   "execution_count": 64,
   "metadata": {
    "scrolled": true
   },
   "outputs": [
    {
     "name": "stdout",
     "output_type": "stream",
     "text": [
      "Confusion matrix, without normalization\n",
      "[[733  88]\n",
      " [ 69 422]]\n"
     ]
    },
    {
     "data": {
      "text/plain": [
       "<matplotlib.axes._subplots.AxesSubplot at 0x7f68a71f70b8>"
      ]
     },
     "execution_count": 64,
     "metadata": {},
     "output_type": "execute_result"
    },
    {
     "data": {
      "image/png": "[encoded data removed]",
      "text/plain": [
       "<Figure size 432x288 with 2 Axes>"
      ]
     },
     "metadata": {},
     "output_type": "display_data"
    }
   ],
   "source": [
    "plot_confusion_matrix(y_A_doubt, y_A_doubt_pred)"
   ]
  },
  {
   "cell_type": "markdown",
   "metadata": {},
   "source": [
    "### GBT + Scaling - Classifying the \"negative\" expression using subject B (REVERSE)"
   ]
  },
  {
   "cell_type": "code",
   "execution_count": 65,
   "metadata": {},
   "outputs": [
    {
     "name": "stdout",
     "output_type": "stream",
     "text": [
      "Fitting 10 folds for each of 9 candidates, totalling 90 fits\n"
     ]
    },
    {
     "name": "stderr",
     "output_type": "stream",
     "text": [
      "[Parallel(n_jobs=-1)]: Using backend LokyBackend with 2 concurrent workers.\n",
      "[Parallel(n_jobs=-1)]: Done  46 tasks      | elapsed:  6.3min\n",
      "[Parallel(n_jobs=-1)]: Done  90 out of  90 | elapsed: 13.8min finished\n"
     ]
    },
    {
     "name": "stdout",
     "output_type": "stream",
     "text": [
      "{'GBT__max_depth': 9}\n",
      "Score:  0.6994631702889667\n"
     ]
    }
   ],
   "source": [
    "random.seed(42)\n",
    "\n",
    "# model defined at start of section\n",
    "gbt_grid = setup_gbt()\n",
    "\n",
    "# Fit the model!\n",
    "gbt_grid.fit(X_B_neg_s, y_B_neg)\n",
    "\n",
    "# What hyper-parameter combination was chosen?\n",
    "print(gbt_grid.best_params_)\n",
    "\n",
    "# Report on performance!\n",
    "print(\"Score: \", gbt_grid.best_score_)"
   ]
  },
  {
   "cell_type": "code",
   "execution_count": 66,
   "metadata": {},
   "outputs": [
    {
     "data": {
      "text/plain": [
       "'F1: 1.00, precision: 1.00, recall: 1.00, specificity: 1.00'"
      ]
     },
     "execution_count": 66,
     "metadata": {},
     "output_type": "execute_result"
    }
   ],
   "source": [
    "# Report performance against the training data\n",
    "y_B_neg_pred = gbt_grid.predict(X_B_neg_s)\n",
    "make_measurements(y_B_neg, y_B_neg_pred)"
   ]
  },
  {
   "cell_type": "code",
   "execution_count": 67,
   "metadata": {
    "scrolled": false
   },
   "outputs": [
    {
     "name": "stdout",
     "output_type": "stream",
     "text": [
      "Confusion matrix, without normalization\n",
      "[[870   0]\n",
      " [  0 712]]\n"
     ]
    },
    {
     "data": {
      "text/plain": [
       "<matplotlib.axes._subplots.AxesSubplot at 0x7f68a70b7550>"
      ]
     },
     "execution_count": 67,
     "metadata": {},
     "output_type": "execute_result"
    },
    {
     "data": {
      "image/png": "[encoded data removed]",
      "text/plain": [
       "<Figure size 432x288 with 2 Axes>"
      ]
     },
     "metadata": {},
     "output_type": "display_data"
    }
   ],
   "source": [
    "plot_confusion_matrix(y_B_neg, y_B_neg_pred)"
   ]
  },
  {
   "cell_type": "markdown",
   "metadata": {},
   "source": [
    "### GBT + Scaling - Predicting the \"negative\" expression for subject A"
   ]
  },
  {
   "cell_type": "code",
   "execution_count": 68,
   "metadata": {},
   "outputs": [
    {
     "data": {
      "text/plain": [
       "'F1: 0.64, precision: 0.52, recall: 0.81, specificity: 0.35'"
      ]
     },
     "execution_count": 68,
     "metadata": {},
     "output_type": "execute_result"
    }
   ],
   "source": [
    "# Report performance against unseen test data\n",
    "y_A_neg_pred = gbt_grid.predict(X_A_neg_s)\n",
    "make_measurements(y_A_neg, y_A_neg_pred)"
   ]
  },
  {
   "cell_type": "code",
   "execution_count": 69,
   "metadata": {
    "scrolled": true
   },
   "outputs": [
    {
     "name": "stdout",
     "output_type": "stream",
     "text": [
      "Confusion matrix, without normalization\n",
      "[[208 388]\n",
      " [100 428]]\n"
     ]
    },
    {
     "data": {
      "text/plain": [
       "<matplotlib.axes._subplots.AxesSubplot at 0x7f689fddd240>"
      ]
     },
     "execution_count": 69,
     "metadata": {},
     "output_type": "execute_result"
    },
    {
     "data": {
      "image/png": "[encoded data removed]",
      "text/plain": [
       "<Figure size 432x288 with 2 Axes>"
      ]
     },
     "metadata": {},
     "output_type": "display_data"
    }
   ],
   "source": [
    "plot_confusion_matrix(y_A_neg, y_A_neg_pred)"
   ]
  },
  {
   "cell_type": "markdown",
   "metadata": {},
   "source": [
    "# d) pt2 - XGBoost applied to Non-Negative Matrix Factorisation (NMF) representation"
   ]
  },
  {
   "cell_type": "code",
   "execution_count": 70,
   "metadata": {},
   "outputs": [
    {
     "name": "stderr",
     "output_type": "stream",
     "text": [
      "/usr/lib/python3/dist-packages/ipykernel_launcher.py:9: FutureWarning: read_table is deprecated, use read_csv instead.\n",
      "  if __name__ == '__main__':\n",
      "/usr/lib/python3/dist-packages/ipykernel_launcher.py:16: FutureWarning: read_table is deprecated, use read_csv instead.\n",
      "  app.launch_new_instance()\n"
     ]
    }
   ],
   "source": [
    "# Load and preprocess the data\n",
    "X_A_doubt, y_A_doubt = load_features_and_labels(\"a\", \"doubt_question\")\n",
    "X_B_doubt, y_B_doubt = load_features_and_labels(\"b\", \"doubt_question\")\n",
    "\n",
    "# Load and preprocess the data\n",
    "X_A_neg, y_A_neg = load_features_and_labels(\"a\", \"negative\")\n",
    "X_B_neg, y_B_neg = load_features_and_labels(\"b\", \"negative\")\n",
    "\n",
    "# Scale all features\n",
    "scaler = StandardScaler()\n",
    "X_A_doubt_s = scaler.fit(X_A_doubt).transform(X_A_doubt)\n",
    "X_B_doubt_s = scaler.fit(X_B_doubt).transform(X_B_doubt)\n",
    "X_A_neg_s = scaler.fit(X_A_neg).transform(X_A_neg)\n",
    "X_B_neg_s = scaler.fit(X_B_neg).transform(X_B_neg)\n",
    "\n",
    "# Shift_Factor (necessary to make all numbers non-negative)\n",
    "shift_factor_doubt = min(np.min(X_A_doubt_s), np.min(X_B_doubt_s))\n",
    "X_A_doubt_s -= shift_factor_doubt\n",
    "X_B_doubt_s -= shift_factor_doubt\n",
    "\n",
    "shift_factor_neg = min(np.min(X_A_neg_s), np.min(X_B_neg_s))\n",
    "X_A_neg_s -= shift_factor_neg\n",
    "X_B_neg_s -= shift_factor_neg"
   ]
  },
  {
   "cell_type": "markdown",
   "metadata": {},
   "source": [
    "### GBT + Scaling + NMF - Classifying the \"doubt\" expression using subject A"
   ]
  },
  {
   "cell_type": "code",
   "execution_count": 71,
   "metadata": {},
   "outputs": [
    {
     "name": "stdout",
     "output_type": "stream",
     "text": [
      "Fitting 10 folds for each of 72 candidates, totalling 720 fits\n"
     ]
    },
    {
     "name": "stderr",
     "output_type": "stream",
     "text": [
      "[Parallel(n_jobs=-1)]: Using backend LokyBackend with 2 concurrent workers.\n",
      "[Parallel(n_jobs=-1)]: Done  46 tasks      | elapsed:  2.7min\n",
      "[Parallel(n_jobs=-1)]: Done 196 tasks      | elapsed: 13.5min\n",
      "[Parallel(n_jobs=-1)]: Done 446 tasks      | elapsed: 32.3min\n",
      "[Parallel(n_jobs=-1)]: Done 720 out of 720 | elapsed: 53.8min finished\n",
      "/usr/local/lib/python3.6/dist-packages/sklearn/model_selection/_search.py:841: DeprecationWarning: The default of the `iid` parameter will change from True to False in version 0.22 and will be removed in 0.24. This will change numeric results when test-set sizes are unequal.\n",
      "  DeprecationWarning)\n"
     ]
    },
    {
     "name": "stdout",
     "output_type": "stream",
     "text": [
      "{'GBT__max_depth': 8, 'NMF__n_components': 31}\n",
      "Score:  0.8796446230562064\n"
     ]
    }
   ],
   "source": [
    "random.seed(42)\n",
    "\n",
    "# model defined at start of section\n",
    "gbt_grid = setup_gbt_nmf()\n",
    "\n",
    "# Fit the model!\n",
    "gbt_grid.fit(X_A_doubt_s, y_A_doubt)\n",
    "\n",
    "# What hyper-parameter combination was chosen?\n",
    "print(gbt_grid.best_params_)\n",
    "\n",
    "# Report on performance!\n",
    "print(\"Score: \", gbt_grid.best_score_)"
   ]
  },
  {
   "cell_type": "code",
   "execution_count": 72,
   "metadata": {},
   "outputs": [
    {
     "data": {
      "text/plain": [
       "'F1: 0.95, precision: 0.96, recall: 0.94, specificity: 0.97'"
      ]
     },
     "execution_count": 72,
     "metadata": {},
     "output_type": "execute_result"
    }
   ],
   "source": [
    "# Report performance against the training data\n",
    "y_A_doubt_pred = gbt_grid.predict(X_A_doubt_s)\n",
    "make_measurements(y_A_doubt, y_A_doubt_pred)"
   ]
  },
  {
   "cell_type": "code",
   "execution_count": 73,
   "metadata": {
    "scrolled": false
   },
   "outputs": [
    {
     "name": "stdout",
     "output_type": "stream",
     "text": [
      "Confusion matrix, without normalization\n",
      "[[800  21]\n",
      " [ 29 462]]\n"
     ]
    },
    {
     "data": {
      "text/plain": [
       "<matplotlib.axes._subplots.AxesSubplot at 0x7f689fd80390>"
      ]
     },
     "execution_count": 73,
     "metadata": {},
     "output_type": "execute_result"
    },
    {
     "data": {
      "image/png": "[encoded data removed]",
      "text/plain": [
       "<Figure size 432x288 with 2 Axes>"
      ]
     },
     "metadata": {},
     "output_type": "display_data"
    }
   ],
   "source": [
    "plot_confusion_matrix(y_A_doubt, y_A_doubt_pred)"
   ]
  },
  {
   "cell_type": "markdown",
   "metadata": {},
   "source": [
    "### GBT + Scaling + NMF -  Predicting the \"doubt\" expression for subject B"
   ]
  },
  {
   "cell_type": "code",
   "execution_count": 74,
   "metadata": {},
   "outputs": [
    {
     "data": {
      "text/plain": [
       "'F1: 0.85, precision: 0.84, recall: 0.86, specificity: 0.83'"
      ]
     },
     "execution_count": 74,
     "metadata": {},
     "output_type": "execute_result"
    }
   ],
   "source": [
    "# Report performance against unseen test data\n",
    "y_B_doubt_pred = gbt_grid.predict(X_B_doubt_s)\n",
    "make_measurements(y_B_doubt, y_B_doubt_pred)"
   ]
  },
  {
   "cell_type": "code",
   "execution_count": 75,
   "metadata": {
    "scrolled": true
   },
   "outputs": [
    {
     "name": "stdout",
     "output_type": "stream",
     "text": [
      "Confusion matrix, without normalization\n",
      "[[594 123]\n",
      " [111 669]]\n"
     ]
    },
    {
     "data": {
      "text/plain": [
       "<matplotlib.axes._subplots.AxesSubplot at 0x7f689fcaf828>"
      ]
     },
     "execution_count": 75,
     "metadata": {},
     "output_type": "execute_result"
    },
    {
     "data": {
      "image/png": "[encoded data removed]",
      "text/plain": [
       "<Figure size 432x288 with 2 Axes>"
      ]
     },
     "metadata": {},
     "output_type": "display_data"
    }
   ],
   "source": [
    "plot_confusion_matrix(y_B_doubt, y_B_doubt_pred)"
   ]
  },
  {
   "cell_type": "markdown",
   "metadata": {},
   "source": [
    "### GBT + Scaling + NMF - Classifying the \"negative\" expression using subject A"
   ]
  },
  {
   "cell_type": "code",
   "execution_count": 76,
   "metadata": {},
   "outputs": [
    {
     "name": "stdout",
     "output_type": "stream",
     "text": [
      "Fitting 10 folds for each of 72 candidates, totalling 720 fits\n"
     ]
    },
    {
     "name": "stderr",
     "output_type": "stream",
     "text": [
      "[Parallel(n_jobs=-1)]: Using backend LokyBackend with 2 concurrent workers.\n",
      "[Parallel(n_jobs=-1)]: Done  46 tasks      | elapsed:  2.2min\n",
      "[Parallel(n_jobs=-1)]: Done 196 tasks      | elapsed: 10.3min\n",
      "[Parallel(n_jobs=-1)]: Done 446 tasks      | elapsed: 24.6min\n",
      "[Parallel(n_jobs=-1)]: Done 720 out of 720 | elapsed: 40.9min finished\n"
     ]
    },
    {
     "name": "stdout",
     "output_type": "stream",
     "text": [
      "{'GBT__max_depth': 7, 'NMF__n_components': 29}\n",
      "Score:  0.9002988232603742\n"
     ]
    }
   ],
   "source": [
    "random.seed(42)\n",
    "\n",
    "# model defined at start of section\n",
    "gbt_grid = setup_gbt_nmf()\n",
    "\n",
    "# Fit the model!\n",
    "gbt_grid.fit(X_A_neg_s, y_A_neg)\n",
    "\n",
    "# What hyper-parameter combination was chosen?\n",
    "print(gbt_grid.best_params_)\n",
    "\n",
    "# Report on performance!\n",
    "print(\"Score: \", gbt_grid.best_score_)"
   ]
  },
  {
   "cell_type": "code",
   "execution_count": 77,
   "metadata": {},
   "outputs": [
    {
     "data": {
      "text/plain": [
       "'F1: 0.97, precision: 0.98, recall: 0.97, specificity: 0.98'"
      ]
     },
     "execution_count": 77,
     "metadata": {},
     "output_type": "execute_result"
    }
   ],
   "source": [
    "# Report performance against the training data\n",
    "y_A_neg_pred = gbt_grid.predict(X_A_neg_s)\n",
    "make_measurements(y_A_neg, y_A_neg_pred)"
   ]
  },
  {
   "cell_type": "code",
   "execution_count": 78,
   "metadata": {
    "scrolled": false
   },
   "outputs": [
    {
     "name": "stdout",
     "output_type": "stream",
     "text": [
      "Confusion matrix, without normalization\n",
      "[[585  11]\n",
      " [ 16 512]]\n"
     ]
    },
    {
     "data": {
      "text/plain": [
       "<matplotlib.axes._subplots.AxesSubplot at 0x7f689fc4a828>"
      ]
     },
     "execution_count": 78,
     "metadata": {},
     "output_type": "execute_result"
    },
    {
     "data": {
      "image/png": "[encoded data removed]",
      "text/plain": [
       "<Figure size 432x288 with 2 Axes>"
      ]
     },
     "metadata": {},
     "output_type": "display_data"
    }
   ],
   "source": [
    "plot_confusion_matrix(y_A_neg, y_A_neg_pred)"
   ]
  },
  {
   "cell_type": "markdown",
   "metadata": {},
   "source": [
    "### GBT + Scaling + NMF - Predicting the \"negative\" expression for subject B"
   ]
  },
  {
   "cell_type": "code",
   "execution_count": 79,
   "metadata": {},
   "outputs": [
    {
     "data": {
      "text/plain": [
       "'F1: 0.57, precision: 0.49, recall: 0.68, specificity: 0.42'"
      ]
     },
     "execution_count": 79,
     "metadata": {},
     "output_type": "execute_result"
    }
   ],
   "source": [
    "# Report performance against unseen test data\n",
    "y_B_neg_pred = gbt_grid.predict(X_B_neg_s)\n",
    "make_measurements(y_B_neg, y_B_neg_pred)"
   ]
  },
  {
   "cell_type": "code",
   "execution_count": 80,
   "metadata": {
    "scrolled": false
   },
   "outputs": [
    {
     "name": "stdout",
     "output_type": "stream",
     "text": [
      "Confusion matrix, without normalization\n",
      "[[367 503]\n",
      " [230 482]]\n"
     ]
    },
    {
     "data": {
      "text/plain": [
       "<matplotlib.axes._subplots.AxesSubplot at 0x7f689f7c2390>"
      ]
     },
     "execution_count": 80,
     "metadata": {},
     "output_type": "execute_result"
    },
    {
     "data": {
      "image/png": "[encoded data removed]",
      "text/plain": [
       "<Figure size 432x288 with 2 Axes>"
      ]
     },
     "metadata": {},
     "output_type": "display_data"
    }
   ],
   "source": [
    "plot_confusion_matrix(y_B_neg, y_B_neg_pred)"
   ]
  },
  {
   "cell_type": "markdown",
   "metadata": {},
   "source": [
    "### GBT + Scaling + NMF - Classifying the \"doubt\" expression using subject B (REVERSE)"
   ]
  },
  {
   "cell_type": "code",
   "execution_count": 81,
   "metadata": {},
   "outputs": [
    {
     "name": "stdout",
     "output_type": "stream",
     "text": [
      "Fitting 10 folds for each of 72 candidates, totalling 720 fits\n"
     ]
    },
    {
     "name": "stderr",
     "output_type": "stream",
     "text": [
      "[Parallel(n_jobs=-1)]: Using backend LokyBackend with 2 concurrent workers.\n",
      "[Parallel(n_jobs=-1)]: Done  46 tasks      | elapsed:  3.1min\n",
      "[Parallel(n_jobs=-1)]: Done 196 tasks      | elapsed: 15.1min\n",
      "[Parallel(n_jobs=-1)]: Done 446 tasks      | elapsed: 37.1min\n",
      "[Parallel(n_jobs=-1)]: Done 720 out of 720 | elapsed: 62.1min finished\n"
     ]
    },
    {
     "name": "stdout",
     "output_type": "stream",
     "text": [
      "{'GBT__max_depth': 10, 'NMF__n_components': 36}\n",
      "Score:  0.880074757381978\n"
     ]
    }
   ],
   "source": [
    "random.seed(42)\n",
    "\n",
    "# model defined at start of section\n",
    "gbt_grid = setup_gbt_nmf()\n",
    "\n",
    "# Fit the model!\n",
    "gbt_grid.fit(X_B_doubt_s, y_B_doubt)\n",
    "\n",
    "# What hyper-parameter combination was chosen?\n",
    "print(gbt_grid.best_params_)\n",
    "\n",
    "# Report on performance!\n",
    "print(\"Score: \", gbt_grid.best_score_)"
   ]
  },
  {
   "cell_type": "code",
   "execution_count": 82,
   "metadata": {},
   "outputs": [
    {
     "data": {
      "text/plain": [
       "'F1: 0.98, precision: 0.98, recall: 0.98, specificity: 0.98'"
      ]
     },
     "execution_count": 82,
     "metadata": {},
     "output_type": "execute_result"
    }
   ],
   "source": [
    "# Report performance against the training data\n",
    "y_B_doubt_pred = gbt_grid.predict(X_B_doubt_s)\n",
    "make_measurements(y_B_doubt, y_B_doubt_pred)"
   ]
  },
  {
   "cell_type": "code",
   "execution_count": 83,
   "metadata": {
    "scrolled": false
   },
   "outputs": [
    {
     "name": "stdout",
     "output_type": "stream",
     "text": [
      "Confusion matrix, without normalization\n",
      "[[703  14]\n",
      " [ 14 766]]\n"
     ]
    },
    {
     "data": {
      "text/plain": [
       "<matplotlib.axes._subplots.AxesSubplot at 0x7f689fb6a668>"
      ]
     },
     "execution_count": 83,
     "metadata": {},
     "output_type": "execute_result"
    },
    {
     "data": {
      "image/png": "[encoded data removed]",
      "text/plain": [
       "<Figure size 432x288 with 2 Axes>"
      ]
     },
     "metadata": {},
     "output_type": "display_data"
    }
   ],
   "source": [
    "plot_confusion_matrix(y_B_doubt, y_B_doubt_pred)"
   ]
  },
  {
   "cell_type": "markdown",
   "metadata": {},
   "source": [
    "### GBT + Scaling + NMF -  Predicting the \"doubt\" expression for subject A"
   ]
  },
  {
   "cell_type": "code",
   "execution_count": 84,
   "metadata": {},
   "outputs": [
    {
     "data": {
      "text/plain": [
       "'F1: 0.62, precision: 0.48, recall: 0.86, specificity: 0.45'"
      ]
     },
     "execution_count": 84,
     "metadata": {},
     "output_type": "execute_result"
    }
   ],
   "source": [
    "# Report performance against unseen test data\n",
    "y_A_doubt_pred = gbt_grid.predict(X_A_doubt_s)\n",
    "make_measurements(y_A_doubt, y_A_doubt_pred)"
   ]
  },
  {
   "cell_type": "code",
   "execution_count": 85,
   "metadata": {
    "scrolled": true
   },
   "outputs": [
    {
     "name": "stdout",
     "output_type": "stream",
     "text": [
      "Confusion matrix, without normalization\n",
      "[[369 452]\n",
      " [ 67 424]]\n"
     ]
    },
    {
     "data": {
      "text/plain": [
       "<matplotlib.axes._subplots.AxesSubplot at 0x7f689f6be4e0>"
      ]
     },
     "execution_count": 85,
     "metadata": {},
     "output_type": "execute_result"
    },
    {
     "data": {
      "image/png": "[encoded data removed]",
      "text/plain": [
       "<Figure size 432x288 with 2 Axes>"
      ]
     },
     "metadata": {},
     "output_type": "display_data"
    }
   ],
   "source": [
    "plot_confusion_matrix(y_A_doubt, y_A_doubt_pred)"
   ]
  },
  {
   "cell_type": "markdown",
   "metadata": {},
   "source": [
    "### GBT + Scaling + NMF - Classifying the \"negative\" expression using subject B (REVERSE)"
   ]
  },
  {
   "cell_type": "code",
   "execution_count": 86,
   "metadata": {},
   "outputs": [
    {
     "name": "stdout",
     "output_type": "stream",
     "text": [
      "Fitting 10 folds for each of 72 candidates, totalling 720 fits\n"
     ]
    },
    {
     "name": "stderr",
     "output_type": "stream",
     "text": [
      "[Parallel(n_jobs=-1)]: Using backend LokyBackend with 2 concurrent workers.\n",
      "[Parallel(n_jobs=-1)]: Done  46 tasks      | elapsed:  3.2min\n",
      "[Parallel(n_jobs=-1)]: Done 196 tasks      | elapsed: 15.6min\n",
      "[Parallel(n_jobs=-1)]: Done 446 tasks      | elapsed: 38.6min\n",
      "[Parallel(n_jobs=-1)]: Done 720 out of 720 | elapsed: 65.0min finished\n"
     ]
    },
    {
     "name": "stdout",
     "output_type": "stream",
     "text": [
      "{'GBT__max_depth': 5, 'NMF__n_components': 31}\n",
      "Score:  0.7403317408383776\n"
     ]
    }
   ],
   "source": [
    "random.seed(42)\n",
    "\n",
    "# model defined at start of section\n",
    "gbt_grid = setup_gbt_nmf()\n",
    "\n",
    "# Fit the model!\n",
    "gbt_grid.fit(X_B_neg_s, y_B_neg)\n",
    "\n",
    "# What hyper-parameter combination was chosen?\n",
    "print(gbt_grid.best_params_)\n",
    "\n",
    "# Report on performance!\n",
    "print(\"Score: \", gbt_grid.best_score_)"
   ]
  },
  {
   "cell_type": "code",
   "execution_count": 87,
   "metadata": {},
   "outputs": [
    {
     "data": {
      "text/plain": [
       "'F1: 0.99, precision: 0.99, recall: 0.98, specificity: 1.00'"
      ]
     },
     "execution_count": 87,
     "metadata": {},
     "output_type": "execute_result"
    }
   ],
   "source": [
    "# Report performance against the training data\n",
    "y_B_neg_pred = gbt_grid.predict(X_B_neg_s)\n",
    "make_measurements(y_B_neg, y_B_neg_pred)"
   ]
  },
  {
   "cell_type": "code",
   "execution_count": 88,
   "metadata": {
    "scrolled": false
   },
   "outputs": [
    {
     "name": "stdout",
     "output_type": "stream",
     "text": [
      "Confusion matrix, without normalization\n",
      "[[866   4]\n",
      " [ 12 700]]\n"
     ]
    },
    {
     "data": {
      "text/plain": [
       "<matplotlib.axes._subplots.AxesSubplot at 0x7f689f72d320>"
      ]
     },
     "execution_count": 88,
     "metadata": {},
     "output_type": "execute_result"
    },
    {
     "data": {
      "image/png": "[encoded data removed]",
      "text/plain": [
       "<Figure size 432x288 with 2 Axes>"
      ]
     },
     "metadata": {},
     "output_type": "display_data"
    }
   ],
   "source": [
    "plot_confusion_matrix(y_B_neg, y_B_neg_pred)"
   ]
  },
  {
   "cell_type": "markdown",
   "metadata": {},
   "source": [
    "### GBT + Scaling + NMF - Predicting the \"negative\" expression for subject A"
   ]
  },
  {
   "cell_type": "code",
   "execution_count": 89,
   "metadata": {},
   "outputs": [
    {
     "data": {
      "text/plain": [
       "'F1: 0.56, precision: 0.60, recall: 0.52, specificity: 0.69'"
      ]
     },
     "execution_count": 89,
     "metadata": {},
     "output_type": "execute_result"
    }
   ],
   "source": [
    "# Report performance against unseen test data\n",
    "y_A_neg_pred = gbt_grid.predict(X_A_neg_s)\n",
    "make_measurements(y_A_neg, y_A_neg_pred)"
   ]
  },
  {
   "cell_type": "code",
   "execution_count": 90,
   "metadata": {
    "scrolled": true
   },
   "outputs": [
    {
     "name": "stdout",
     "output_type": "stream",
     "text": [
      "Confusion matrix, without normalization\n",
      "[[411 185]\n",
      " [251 277]]\n"
     ]
    },
    {
     "data": {
      "text/plain": [
       "<matplotlib.axes._subplots.AxesSubplot at 0x7f689f603160>"
      ]
     },
     "execution_count": 90,
     "metadata": {},
     "output_type": "execute_result"
    },
    {
     "data": {
      "image/png": "[encoded data removed]",
      "text/plain": [
       "<Figure size 432x288 with 2 Axes>"
      ]
     },
     "metadata": {},
     "output_type": "display_data"
    }
   ],
   "source": [
    "plot_confusion_matrix(y_A_neg, y_A_neg_pred)"
   ]
  },
  {
   "cell_type": "markdown",
   "metadata": {},
   "source": [
    "# Scratch-space\n",
    "\n",
    "Note:  Data augmentation requires reshuffling of data, can't rely on cross-val otherwise!"
   ]
  },
  {
   "cell_type": "markdown",
   "metadata": {},
   "source": [
    "\n",
    "These results without augmentation\n",
    "\n",
    "- With NMF(30): 'F1: 0.85, precision: 0.83, recall: 0.87'\n",
    "- With NMF(31): 'F1: 0.84, precision: 0.84, recall: 0.85'\n",
    "- Without NMF:  'F1: 0.84, precision: 0.83, recall: 0.87'\n",
    "- With PCA(45): 'F1: 0.82, precision: 0.82, recall: 0.82'\n",
    "- With PCA(48): 'F1: 0.83, precision: 0.79, recall: 0.87'"
   ]
  },
  {
   "cell_type": "markdown",
   "metadata": {},
   "source": [
    "# MAD SCIENCE! - data augmentation instead"
   ]
  },
  {
   "cell_type": "code",
   "execution_count": 91,
   "metadata": {},
   "outputs": [],
   "source": [
    "def split_data_dimensions(data):\n",
    "    \"\"\" Extract X, Y and Z coordinates from these feature sets.\"\"\"\n",
    "    X = np.asarray( [[x[i] for i in range(0, 300, 3)] for x in data] )\n",
    "    Y = np.asarray( [[x[i] for i in range(1, 300, 3)] for x in data] )\n",
    "    Z = np.asarray( [[x[i] for i in range(2, 300, 3)] for x in data] )\n",
    "    return(X, Y, Z)\n",
    "\n",
    "\n",
    "def generate_skewed_samples(X, Y, factor=0.05, fold=1):\n",
    "    \"\"\" Take X and Y data and skew them randomly, sample by sample. \n",
    "    Create as many folds (multiples of original dataset size).\n",
    "    \"\"\"\n",
    "    \n",
    "    # Create a set of X and Y coordinates for the frame corners\n",
    "    x_coords = [np.min(X), np.min(X), np.max(X), np.max(X)]\n",
    "    y_coords = [np.min(Y), np.max(Y), np.min(Y), np.max(Y)]\n",
    "    \n",
    "    new_X = []\n",
    "    new_Y = []\n",
    "    \n",
    "    # For (as many times original data as we want)\n",
    "    for repeats in range(fold):\n",
    "        for i in range(len(X)):\n",
    "            \n",
    "            # Create the four interpolation points with random uniform\n",
    "            x_skewed = [x + (x_coords[-1]-x_coords[0]) * np.random.uniform(-1, 1) * factor for x in x_coords]\n",
    "            y_skewed = [y + (y_coords[-1]-y_coords[0]) *np.random.uniform(-1, 1) * factor for y in y_coords]\n",
    "            \n",
    "            # create the interpolators\n",
    "            fx = interp2d(x=x_coords, y=y_coords, z=x_skewed, kind=\"linear\")\n",
    "            fy = interp2d(x=x_coords, y=y_coords, z=y_skewed, kind=\"linear\")\n",
    "            \n",
    "            # Alter all points for a given sample using the same interpolator\n",
    "            new_X.append([float(fx(X[i, j], Y[i, j])) for j in range(X.shape[1])])\n",
    "            new_Y.append([float(fy(X[i, j], Y[i, j])) for j in range(X.shape[1])])\n",
    "        \n",
    "    return(np.asarray(new_X), np.asarray(new_Y))\n",
    "\n",
    "\n",
    "def create_augmented_dataset(data, fold=3):\n",
    "    \"\"\" Take a dataset, extract the X and Y coordinates only, and\n",
    "    augment through random skewing/shearing/jittering (simultaneous).\n",
    "    \n",
    "    Return the original data with augmented data appended.\n",
    "    \"\"\"\n",
    "    # Extract just the X and Y variables\n",
    "    X, Y, Z = split_data_dimensions(data)\n",
    "    \n",
    "    # Generate multiple randomly skewed versions (on X and Y only though)\n",
    "    new_X, new_Y = generate_skewed_samples(X, Y, fold=fold)\n",
    "    \n",
    "    # Join original and skewed data into new dataset\n",
    "    all_X = np.concatenate((X, new_X))\n",
    "    all_Y = np.concatenate((Y, new_Y))\n",
    "    #all_Z = np.concatenate([Z for i in range(fold+1)])\n",
    "    \n",
    "    # Join into row-wise samples\n",
    "    return(np.concatenate((all_X, all_Y), axis=1))"
   ]
  },
  {
   "cell_type": "markdown",
   "metadata": {},
   "source": [
    "### XGBoost + Scaling + Augmentation - Classifying the \"negative\" expression using subject A"
   ]
  },
  {
   "cell_type": "code",
   "execution_count": 92,
   "metadata": {},
   "outputs": [
    {
     "name": "stderr",
     "output_type": "stream",
     "text": [
      "/usr/lib/python3/dist-packages/ipykernel_launcher.py:9: FutureWarning: read_table is deprecated, use read_csv instead.\n",
      "  if __name__ == '__main__':\n",
      "/usr/lib/python3/dist-packages/ipykernel_launcher.py:16: FutureWarning: read_table is deprecated, use read_csv instead.\n",
      "  app.launch_new_instance()\n"
     ]
    }
   ],
   "source": [
    "# Load and preprocess the data (negative)\n",
    "X_A_neg, y_A_neg = load_features_and_labels(\"a\", \"negative\")\n",
    "X_B_neg, y_B_neg = load_features_and_labels(\"b\", \"negative\")\n",
    "\n",
    "# Scale all features\n",
    "scaler = StandardScaler()\n",
    "X_A_neg_s = scaler.fit(X_A_neg).transform(X_A_neg)\n",
    "X_B_neg_s = scaler.fit(X_B_neg).transform(X_B_neg)\n",
    "\n",
    "# Augment the training datasets four-fold\n",
    "folds = 4\n",
    "X_A_neg_s = create_augmented_dataset(X_A_neg_s, fold=folds)\n",
    "\n",
    "# Extend the training classifications\n",
    "y_A_neg = np.concatenate([y_A_neg for i in range(folds+1)])\n",
    "\n",
    "random.seed(42)\n",
    "\n",
    "# Randomly shuffle the training data\n",
    "permutation_neg = np.random.permutation(X_A_neg_s.shape[0])\n",
    "X_A_neg_s = X_A_neg_s[permutation_neg]\n",
    "y_A_neg = y_A_neg[permutation_neg]"
   ]
  },
  {
   "cell_type": "code",
   "execution_count": 93,
   "metadata": {},
   "outputs": [
    {
     "name": "stdout",
     "output_type": "stream",
     "text": [
      "Fitting 10 folds for each of 9 candidates, totalling 90 fits\n"
     ]
    },
    {
     "name": "stderr",
     "output_type": "stream",
     "text": [
      "[Parallel(n_jobs=-1)]: Using backend LokyBackend with 2 concurrent workers.\n",
      "[Parallel(n_jobs=-1)]: Done  46 tasks      | elapsed: 25.7min\n",
      "[Parallel(n_jobs=-1)]: Done  90 out of  90 | elapsed: 66.8min finished\n"
     ]
    },
    {
     "name": "stdout",
     "output_type": "stream",
     "text": [
      "{'GBT__max_depth': 10}\n",
      "Score:  0.9510879303120634\n"
     ]
    }
   ],
   "source": [
    "random.seed(42)\n",
    "\n",
    "# model defined at start of section\n",
    "gbt_grid = setup_gbt()\n",
    "\n",
    "# Fit the model!\n",
    "gbt_grid.fit(X_A_neg_s, y_A_neg)\n",
    "\n",
    "# What hyper-parameter combination was chosen?\n",
    "print(gbt_grid.best_params_)\n",
    "\n",
    "# Report on performance!\n",
    "print(\"Score: \", gbt_grid.best_score_)"
   ]
  },
  {
   "cell_type": "code",
   "execution_count": 94,
   "metadata": {},
   "outputs": [
    {
     "data": {
      "text/plain": [
       "'F1: 1.00, precision: 1.00, recall: 1.00, specificity: 1.00'"
      ]
     },
     "execution_count": 94,
     "metadata": {},
     "output_type": "execute_result"
    }
   ],
   "source": [
    "# Report performance against the training data\n",
    "y_A_neg_pred = gbt_grid.predict(X_A_neg_s)\n",
    "make_measurements(y_A_neg, y_A_neg_pred)"
   ]
  },
  {
   "cell_type": "code",
   "execution_count": 95,
   "metadata": {
    "scrolled": true
   },
   "outputs": [
    {
     "name": "stdout",
     "output_type": "stream",
     "text": [
      "Confusion matrix, without normalization\n",
      "[[2980    0]\n",
      " [   0 2640]]\n"
     ]
    },
    {
     "data": {
      "text/plain": [
       "<matplotlib.axes._subplots.AxesSubplot at 0x7f689f5b97f0>"
      ]
     },
     "execution_count": 95,
     "metadata": {},
     "output_type": "execute_result"
    },
    {
     "data": {
      "image/png": "[encoded data removed]",
      "text/plain": [
       "<Figure size 432x288 with 2 Axes>"
      ]
     },
     "metadata": {},
     "output_type": "display_data"
    }
   ],
   "source": [
    "plot_confusion_matrix(y_A_neg, y_A_neg_pred)"
   ]
  },
  {
   "cell_type": "markdown",
   "metadata": {},
   "source": [
    "### Predicting the \"negative\" expression for subject B\n",
    "\n",
    "- With augmentation: 'F1: 0.62/0.55, precision: 0.54, recall: 0.72'\n",
    "- With Z removed:    'F1: 0.55, precision: 0.48, recall: 0.65'\n",
    "- With skew factor 0.2:  'F1: 0.54, precision: 0.52, recall: 0.55'"
   ]
  },
  {
   "cell_type": "code",
   "execution_count": 96,
   "metadata": {},
   "outputs": [
    {
     "data": {
      "text/plain": [
       "'F1: 0.60, precision: 0.50, recall: 0.76, specificity: 0.38'"
      ]
     },
     "execution_count": 96,
     "metadata": {},
     "output_type": "execute_result"
    }
   ],
   "source": [
    "# Report performance against unseen test data\n",
    "X, Y, Z = split_data_dimensions(X_B_neg_s)\n",
    "X_B_neg_s = np.concatenate((X, Y), axis=1)\n",
    "y_B_neg_pred = gbt_grid.predict(X_B_neg_s)\n",
    "make_measurements(y_B_neg, y_B_neg_pred)"
   ]
  },
  {
   "cell_type": "code",
   "execution_count": 97,
   "metadata": {
    "scrolled": true
   },
   "outputs": [
    {
     "name": "stdout",
     "output_type": "stream",
     "text": [
      "Confusion matrix, without normalization\n",
      "[[330 540]\n",
      " [170 542]]\n"
     ]
    },
    {
     "data": {
      "text/plain": [
       "<matplotlib.axes._subplots.AxesSubplot at 0x7f689df92b70>"
      ]
     },
     "execution_count": 97,
     "metadata": {},
     "output_type": "execute_result"
    },
    {
     "data": {
      "image/png": "[encoded data removed]",
      "text/plain": [
       "<Figure size 432x288 with 2 Axes>"
      ]
     },
     "metadata": {},
     "output_type": "display_data"
    }
   ],
   "source": [
    "plot_confusion_matrix(y_B_neg, y_B_neg_pred)"
   ]
  },
  {
   "cell_type": "markdown",
   "metadata": {},
   "source": [
    "### XGBoost + Scaling + Augmentation - Classifying the \"negative\" expression using subject B  (REVERSE)"
   ]
  },
  {
   "cell_type": "code",
   "execution_count": 98,
   "metadata": {},
   "outputs": [
    {
     "name": "stderr",
     "output_type": "stream",
     "text": [
      "/usr/lib/python3/dist-packages/ipykernel_launcher.py:9: FutureWarning: read_table is deprecated, use read_csv instead.\n",
      "  if __name__ == '__main__':\n",
      "/usr/lib/python3/dist-packages/ipykernel_launcher.py:16: FutureWarning: read_table is deprecated, use read_csv instead.\n",
      "  app.launch_new_instance()\n"
     ]
    }
   ],
   "source": [
    "# Load and preprocess the data (negative)\n",
    "X_A_neg, y_A_neg = load_features_and_labels(\"a\", \"negative\")\n",
    "X_B_neg, y_B_neg = load_features_and_labels(\"b\", \"negative\")\n",
    "\n",
    "# Scale all features\n",
    "scaler = StandardScaler()\n",
    "X_A_neg_s = scaler.fit(X_A_neg).transform(X_A_neg)\n",
    "X_B_neg_s = scaler.fit(X_B_neg).transform(X_B_neg)\n",
    "\n",
    "# Augment the training datasets four-fold\n",
    "folds = 4\n",
    "X_B_neg_s = create_augmented_dataset(X_B_neg_s, fold=folds)\n",
    "\n",
    "# Extend the training classifications\n",
    "y_B_neg = np.concatenate([y_B_neg for i in range(folds+1)])\n",
    "\n",
    "random.seed(42)\n",
    "\n",
    "# Randomly shuffle the training data\n",
    "permutation_neg = np.random.permutation(X_B_neg_s.shape[0])\n",
    "X_B_neg_s = X_B_neg_s[permutation_neg]\n",
    "y_B_neg = y_B_neg[permutation_neg]"
   ]
  },
  {
   "cell_type": "code",
   "execution_count": 99,
   "metadata": {},
   "outputs": [
    {
     "name": "stdout",
     "output_type": "stream",
     "text": [
      "Fitting 10 folds for each of 9 candidates, totalling 90 fits\n"
     ]
    },
    {
     "name": "stderr",
     "output_type": "stream",
     "text": [
      "[Parallel(n_jobs=-1)]: Using backend LokyBackend with 2 concurrent workers.\n",
      "/usr/local/lib/python3.6/dist-packages/sklearn/externals/joblib/externals/loky/process_executor.py:706: UserWarning: A worker stopped while some jobs were given to the executor. This can be caused by a too short worker timeout or by a memory leak.\n",
      "  \"timeout or by a memory leak.\", UserWarning\n",
      "[Parallel(n_jobs=-1)]: Done  46 tasks      | elapsed: 36.9min\n",
      "[Parallel(n_jobs=-1)]: Done  90 out of  90 | elapsed: 101.5min finished\n"
     ]
    },
    {
     "name": "stdout",
     "output_type": "stream",
     "text": [
      "{'GBT__max_depth': 9}\n",
      "Score:  0.9704812326160513\n"
     ]
    }
   ],
   "source": [
    "random.seed(42)\n",
    "\n",
    "# model defined at start of section\n",
    "gbt_grid = setup_gbt()\n",
    "\n",
    "# Fit the model!\n",
    "gbt_grid.fit(X_B_neg_s, y_B_neg)\n",
    "\n",
    "# What hyper-parameter combination was chosen?\n",
    "print(gbt_grid.best_params_)\n",
    "\n",
    "# Report on performance!\n",
    "print(\"Score: \", gbt_grid.best_score_)"
   ]
  },
  {
   "cell_type": "code",
   "execution_count": 100,
   "metadata": {},
   "outputs": [
    {
     "data": {
      "text/plain": [
       "'F1: 1.00, precision: 1.00, recall: 1.00, specificity: 1.00'"
      ]
     },
     "execution_count": 100,
     "metadata": {},
     "output_type": "execute_result"
    }
   ],
   "source": [
    "# Report performance against the training data\n",
    "y_B_neg_pred = gbt_grid.predict(X_B_neg_s)\n",
    "make_measurements(y_B_neg, y_B_neg_pred)"
   ]
  },
  {
   "cell_type": "code",
   "execution_count": 101,
   "metadata": {
    "scrolled": true
   },
   "outputs": [
    {
     "name": "stdout",
     "output_type": "stream",
     "text": [
      "Confusion matrix, without normalization\n",
      "[[4349    1]\n",
      " [   0 3560]]\n"
     ]
    },
    {
     "data": {
      "text/plain": [
       "<matplotlib.axes._subplots.AxesSubplot at 0x7f689f4f7fd0>"
      ]
     },
     "execution_count": 101,
     "metadata": {},
     "output_type": "execute_result"
    },
    {
     "data": {
      "image/png": "[encoded data removed]",
      "text/plain": [
       "<Figure size 432x288 with 2 Axes>"
      ]
     },
     "metadata": {},
     "output_type": "display_data"
    }
   ],
   "source": [
    "plot_confusion_matrix(y_B_neg, y_B_neg_pred)"
   ]
  },
  {
   "cell_type": "markdown",
   "metadata": {},
   "source": [
    "### Predicting the \"negative\" expression for subject A (REVERSE)\n",
    "\n",
    "- With augmentation: 'F1: 0.62/0.55, precision: 0.54, recall: 0.72'\n",
    "- With Z removed:    'F1: 0.55, precision: 0.48, recall: 0.65'\n",
    "- With skew factor 0.2:  'F1: 0.54, precision: 0.52, recall: 0.55'"
   ]
  },
  {
   "cell_type": "code",
   "execution_count": 102,
   "metadata": {},
   "outputs": [
    {
     "data": {
      "text/plain": [
       "'F1: 0.69, precision: 0.66, recall: 0.73, specificity: 0.67'"
      ]
     },
     "execution_count": 102,
     "metadata": {},
     "output_type": "execute_result"
    }
   ],
   "source": [
    "# Report performance against unseen test data\n",
    "X, Y, Z = split_data_dimensions(X_A_neg_s)\n",
    "X_A_neg_s = np.concatenate((X, Y), axis=1)\n",
    "y_A_neg_pred = gbt_grid.predict(X_A_neg_s)\n",
    "make_measurements(y_A_neg, y_A_neg_pred)"
   ]
  },
  {
   "cell_type": "code",
   "execution_count": 103,
   "metadata": {
    "scrolled": true
   },
   "outputs": [
    {
     "name": "stdout",
     "output_type": "stream",
     "text": [
      "Confusion matrix, without normalization\n",
      "[[401 195]\n",
      " [144 384]]\n"
     ]
    },
    {
     "data": {
      "text/plain": [
       "<matplotlib.axes._subplots.AxesSubplot at 0x7f689f54cf98>"
      ]
     },
     "execution_count": 103,
     "metadata": {},
     "output_type": "execute_result"
    },
    {
     "data": {
      "image/png": "[encoded data removed]",
      "text/plain": [
       "<Figure size 432x288 with 2 Axes>"
      ]
     },
     "metadata": {},
     "output_type": "display_data"
    }
   ],
   "source": [
    "plot_confusion_matrix(y_A_neg, y_A_neg_pred)"
   ]
  },
  {
   "cell_type": "code",
   "execution_count": null,
   "metadata": {},
   "outputs": [],
   "source": []
  }
 ],
 "metadata": {
  "kernelspec": {
   "display_name": "Python 3",
   "language": "python",
   "name": "python3"
  },
  "language_info": {
   "codemirror_mode": {
    "name": "ipython",
    "version": 3
   },
   "file_extension": ".py",
   "mimetype": "text/x-python",
   "name": "python",
   "nbconvert_exporter": "python",
   "pygments_lexer": "ipython3",
   "version": "3.6.7"
  }
 },
 "nbformat": 4,
 "nbformat_minor": 2
}
