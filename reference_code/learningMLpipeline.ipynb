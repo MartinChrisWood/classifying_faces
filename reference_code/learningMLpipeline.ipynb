{
 "cells": [
  {
   "cell_type": "markdown",
   "metadata": {},
   "source": [
    "# Constructing an ML pipeline - Classification Methods with Iris Data"
   ]
  },
  {
   "cell_type": "markdown",
   "metadata": {},
   "source": [
    "The modules used are matplotlib for plotting, sklearn for the ML algorithms, sklearn.datasets for example data, numpy and pandas for data manipulation"
   ]
  },
  {
   "cell_type": "code",
   "execution_count": 24,
   "metadata": {
    "collapsed": true
   },
   "outputs": [],
   "source": [
    "import numpy as np\n",
    "import pandas as pd\n",
    "\n",
    "from sklearn.datasets import load_iris, load_digits\n",
    "from matplotlib import pyplot as plt\n",
    "\n",
    "# Related to bottom chapter exploring sklearn\n",
    "from sklearn import svm\n",
    "import pickle"
   ]
  },
  {
   "cell_type": "markdown",
   "metadata": {},
   "source": [
    "Load up our old friend the Iris dataset!"
   ]
  },
  {
   "cell_type": "code",
   "execution_count": 34,
   "metadata": {
    "collapsed": false
   },
   "outputs": [
    {
     "name": "stdout",
     "output_type": "stream",
     "text": [
      "['setosa' 'versicolor' 'virginica']\n",
      "[0 0 0 0 0 0 0 0 0 0]\n"
     ]
    }
   ],
   "source": [
    "data = load_iris()\n",
    "features = data['data']\n",
    "feature_names = data['feature_names']\n",
    "target = data['target']\n",
    "target_names = data['target_names']\n",
    "\n",
    "print(target_names)\n",
    "print(target[0:10])"
   ]
  },
  {
   "cell_type": "markdown",
   "metadata": {},
   "source": [
    "It's all in ML terminology, but basically the data and metadata were stored in the sklearn.datasets package as a dictionary-like class with the labels for variables stored separately to their numerical values.  The above code has created numpy arrays of data and their labels.\n",
    "\n",
    "Next, an excessively complicated plotting command."
   ]
  },
  {
   "cell_type": "code",
   "execution_count": 26,
   "metadata": {
    "collapsed": false
   },
   "outputs": [
    {
     "name": "stdout",
     "output_type": "stream",
     "text": [
      "[(0, '>', 'r'), (1, 'o', 'g'), (2, 'x', 'b')]\n"
     ]
    },
    {
     "data": {
      "image/png": "[encoded data removed]",
      "text/plain": [
       "<matplotlib.figure.Figure at 0x7f80c7cbf5c0>"
      ]
     },
     "metadata": {},
     "output_type": "display_data"
    }
   ],
   "source": [
    "# just so I can be sure what that part does;\n",
    "print([each for each in zip(range(3), \">ox\", \"rgb\")])\n",
    "\n",
    "for t, marker, c in zip(range(3), \">ox\", \"rgb\"):\n",
    "    \n",
    "    # We plot each class on its own to get different coloured markers\n",
    "    plt.scatter(features[target == t, 0],\n",
    "                features[target == t, 1],\n",
    "                marker = marker,\n",
    "                c = c)\n",
    "\n",
    "plt.show()\n"
   ]
  },
  {
   "cell_type": "code",
   "execution_count": 32,
   "metadata": {
    "collapsed": false
   },
   "outputs": [
    {
     "data": {
      "image/png": "[encoded data removed]",
      "text/plain": [
       "<matplotlib.figure.Figure at 0x7f80c7e55198>"
      ]
     },
     "metadata": {},
     "output_type": "display_data"
    },
    {
     "data": {
      "image/png": "[encoded data removed]",
      "text/plain": [
       "<matplotlib.figure.Figure at 0x7f80c7a32400>"
      ]
     },
     "metadata": {},
     "output_type": "display_data"
    },
    {
     "data": {
      "image/png": "[encoded data removed]",
      "text/plain": [
       "<matplotlib.figure.Figure at 0x7f80c7e55cc0>"
      ]
     },
     "metadata": {},
     "output_type": "display_data"
    }
   ],
   "source": [
    "# Note if plt.show() is within the for loop I get three separate plots!\n",
    "\n",
    "for t, marker, c in zip(range(3), \">ox\", \"rgb\"):\n",
    "    \n",
    "    # We plot each class on its own to get different coloured markers\n",
    "    plt.scatter(features[target == t, 2],\n",
    "                features[target == t, 3],\n",
    "                marker = marker,\n",
    "                c = c)\n",
    "    \n",
    "    # Enforce axis ranges so different plotting areas are distinguishable\n",
    "    plt.xlim(0, 7)\n",
    "    plt.ylim(0, 2.5)\n",
    "    plt.show()"
   ]
  },
  {
   "cell_type": "code",
   "execution_count": 37,
   "metadata": {
    "collapsed": false
   },
   "outputs": [
    {
     "name": "stdout",
     "output_type": "stream",
     "text": [
      "Maximum of setosa: 1.90\n",
      "Minimum of others: 3.00\n"
     ]
    }
   ],
   "source": [
    "# Playing games following the tutorial\n",
    "\n",
    "plength = features[:, 2]\n",
    "\n",
    "is_setosa = (target == 0)\n",
    "\n",
    "max_setosa = plength[is_setosa].max()\n",
    "\n",
    "min_non_setosa = plength[~is_setosa].min()\n",
    "\n",
    "print('Maximum of setosa: %.2f' % max_setosa)\n",
    "print('Minimum of others: %.2f' % min_non_setosa)"
   ]
  },
  {
   "cell_type": "markdown",
   "metadata": {
    "collapsed": true
   },
   "source": [
    "## Training versus Test Data and Cross-Validation\n",
    "\n",
    "key idea, want to be able to use as much data as possible for training to get the best possible fit while still validating and avoiding overfitting.  Cross-validation is a useful alternative to naively splitting the dataset in half.\n",
    "\n",
    "Extreme version, \"leave-one-out\" validation.\n",
    "\n",
    "It's an end-member case of x-fold cross-validation, where x is the number of equal-sized (ish) groups the data is split in to, with one group kept for testing and the rest used to fit.  Higher numbers of groups makes for intensive recalculations, which is why \"leave-one-out\" validation may not be a practical approach.\n",
    "\n",
    "Once cross-validation is complete, if the model appears robust then you can create a model using ALL of the data for whatever application it was being developed for.\n"
   ]
  },
  {
   "cell_type": "markdown",
   "metadata": {},
   "source": [
    "Some new terminology - the \"Loss function\".  Refers to the evaluation metric for the performance I guess (very general term but with such a wide range of \"models\" in ML perhaps it's needed).  Be as un-wrong as possible (\"less bad\"), because correct doesn't happen in statistics."
   ]
  },
  {
   "cell_type": "markdown",
   "metadata": {},
   "source": [
    "# Giving up on the book (too basic)\n",
    "\n",
    "Gone to find a tutorial on the sklearn commands specifically, this book is too light on theory and has me manually coding things when I just need the commands and information about how sklearn specifically works.  Humbug!\n"
   ]
  },
  {
   "cell_type": "code",
   "execution_count": 3,
   "metadata": {
    "collapsed": false
   },
   "outputs": [
    {
     "name": "stdout",
     "output_type": "stream",
     "text": [
      "[[  0.   0.   5. ...,   0.   0.   0.]\n",
      " [  0.   0.   0. ...,  10.   0.   0.]\n",
      " [  0.   0.   0. ...,  16.   9.   0.]\n",
      " ..., \n",
      " [  0.   0.   1. ...,   6.   0.   0.]\n",
      " [  0.   0.   2. ...,  12.   0.   0.]\n",
      " [  0.   0.  10. ...,  12.   1.   0.]]\n"
     ]
    }
   ],
   "source": [
    "digits = load_digits()\n",
    "\n",
    "# Accessing the data\n",
    "print(digits.data)"
   ]
  },
  {
   "cell_type": "code",
   "execution_count": 14,
   "metadata": {
    "collapsed": false
   },
   "outputs": [
    {
     "name": "stdout",
     "output_type": "stream",
     "text": [
      "2 (1797, 64)\n"
     ]
    }
   ],
   "source": [
    "print(np.ndim(digits.data), np.shape(digits.data))\n"
   ]
  },
  {
   "cell_type": "code",
   "execution_count": 16,
   "metadata": {
    "collapsed": false
   },
   "outputs": [
    {
     "name": "stdout",
     "output_type": "stream",
     "text": [
      "[0 1 2 ..., 8 9 8]\n"
     ]
    }
   ],
   "source": [
    "# Accessing the true values\n",
    "print(digits.target)"
   ]
  },
  {
   "cell_type": "code",
   "execution_count": 17,
   "metadata": {
    "collapsed": false
   },
   "outputs": [
    {
     "data": {
      "text/plain": [
       "array([[  0.,   0.,   5.,  13.,   9.,   1.,   0.,   0.],\n",
       "       [  0.,   0.,  13.,  15.,  10.,  15.,   5.,   0.],\n",
       "       [  0.,   3.,  15.,   2.,   0.,  11.,   8.,   0.],\n",
       "       [  0.,   4.,  12.,   0.,   0.,   8.,   8.,   0.],\n",
       "       [  0.,   5.,   8.,   0.,   0.,   9.,   8.,   0.],\n",
       "       [  0.,   4.,  11.,   0.,   1.,  12.,   7.,   0.],\n",
       "       [  0.,   2.,  14.,   5.,  10.,  12.,   0.,   0.],\n",
       "       [  0.,   0.,   6.,  13.,  10.,   0.,   0.,   0.]])"
      ]
     },
     "execution_count": 17,
     "metadata": {},
     "output_type": "execute_result"
    }
   ],
   "source": [
    "# Each row is an actual tiny image!  Huh!\n",
    "\n",
    "# The first one\n",
    "digits.images[0]"
   ]
  },
  {
   "cell_type": "markdown",
   "metadata": {},
   "source": [
    "Some notes on Support Vector Machines (SVM's) before I actually try to use one.  It's a \"non-probabilistic (returns a classification, not a probability distribution) binary (it's one or other, classifications are exclusive) linear (it draws boundaries in phase space) classifier\".\n",
    "\n",
    "Makes sure that gap at boundary is as wide as possible (there's our \"Loss function\").\n",
    "\n",
    "There is also a thing such as support vector clustering, presumably a variation on other clustering methods that uses the same loss function as SVM's?\n",
    "\n",
    "What the SVM defines as output is essentially a set of n-dimensional hyperplanes.  Which is the best name for a spaceship EVER.\n",
    "\n",
    "The trick is the addition of more dimensions than there were originally.  If a set of data are not easily separable in the given dimensions, map the hyperplane into a much higher-dimensional space.  I'm not sure if a mathematical transformation is carried out upon the data itself?  Basically a graph in lower dimensional space will show the hyperplane as a wiggly line.  It's actually a flat plane, what's varying is the graph's position in higher dimensional space with position in our dimension...\n",
    "\n",
    "I'm not going to understand this today and I don't really need to for a few months so I've saved a horribly complicated maths paper and i'll consult my engineering mathematics text book later.\n",
    "\n",
    "It IS something I should learn though, since apparently it's useful for text analysis and classification.  Might make NLP actually interesting."
   ]
  },
  {
   "cell_type": "code",
   "execution_count": 19,
   "metadata": {
    "collapsed": true
   },
   "outputs": [],
   "source": [
    "# Back to building something.  Define a Support Vector Classifier (SVC);\n",
    "\n",
    "# Parameters have been set manually, don't know what they actually are.\n",
    "clf = svm.SVC(gamma = 0.001, C = 100)\n"
   ]
  },
  {
   "cell_type": "code",
   "execution_count": 20,
   "metadata": {
    "collapsed": false
   },
   "outputs": [
    {
     "data": {
      "text/plain": [
       "SVC(C=100, cache_size=200, class_weight=None, coef0=0.0,\n",
       "  decision_function_shape=None, degree=3, gamma=0.001, kernel='rbf',\n",
       "  max_iter=-1, probability=False, random_state=None, shrinking=True,\n",
       "  tol=0.001, verbose=False)"
      ]
     },
     "execution_count": 20,
     "metadata": {},
     "output_type": "execute_result"
    }
   ],
   "source": [
    "# Fit a model\n",
    "\n",
    "# I like this system of creating numpy arrays for data and target, and keeping that plus metadata in a dictionary.\n",
    "# It would be very easy to implement this for my own data.\n",
    "clf.fit(digits.data[:-1], digits.target[:-1])"
   ]
  },
  {
   "cell_type": "code",
   "execution_count": 22,
   "metadata": {
    "collapsed": false
   },
   "outputs": [
    {
     "data": {
      "text/plain": [
       "array([8])"
      ]
     },
     "execution_count": 22,
     "metadata": {},
     "output_type": "execute_result"
    }
   ],
   "source": [
    "# And now use it to predict that last image that we didn't fit.\n",
    "clf.predict(digits.data[-1:])"
   ]
  },
  {
   "cell_type": "code",
   "execution_count": 26,
   "metadata": {
    "collapsed": false
   },
   "outputs": [
    {
     "data": {
      "text/plain": [
       "array([8])"
      ]
     },
     "execution_count": 26,
     "metadata": {},
     "output_type": "execute_result"
    }
   ],
   "source": [
    "# Saving and loading a fitted model directly using pickle\n",
    "s = pickle.dumps(clf)\n",
    "clf2 = pickle.loads(s)\n",
    "clf2.predict(digits.data[-1:])"
   ]
  },
  {
   "cell_type": "markdown",
   "metadata": {},
   "source": [
    "### SVM Example with Iris Dataset"
   ]
  },
  {
   "cell_type": "code",
   "execution_count": 27,
   "metadata": {
    "collapsed": false
   },
   "outputs": [
    {
     "data": {
      "text/plain": [
       "array([0])"
      ]
     },
     "execution_count": 27,
     "metadata": {},
     "output_type": "execute_result"
    }
   ],
   "source": [
    "# A complete example for reference\n",
    "from sklearn import svm\n",
    "from sklearn import datasets\n",
    "import pickle\n",
    "\n",
    "clf = svm.SVC()\n",
    "iris = datasets.load_iris()\n",
    "X, y = iris.data, iris.target\n",
    "clf.fit(X, y)\n",
    "\n",
    "s = pickle.dumps(clf)\n",
    "clf2 = pickle.loads(s)\n",
    "clf2.predict(X[0:1])"
   ]
  },
  {
   "cell_type": "code",
   "execution_count": 28,
   "metadata": {
    "collapsed": true
   },
   "outputs": [],
   "source": [
    "# Saving a model using joblib to dump to disk, more efficient on big data but can only dump to disk, not to a string\n",
    "\n",
    "from sklearn.externals import joblib\n",
    "joblib.dump(clf, 'filename.pkl')\n",
    "\n",
    "clf = joblib.load('filename.pkl')"
   ]
  },
  {
   "cell_type": "markdown",
   "metadata": {},
   "source": [
    "## Conventions\n",
    "\n",
    "Typecasting - input will cast to float64 before calculations unless otherwise specified.  With targets, regression casts to float64, classification targets are maintained.\n",
    "\n",
    "Refitting and updating parameters - .set_params can be used to change parameters (such as 'gamma' used in svm earlier), after which calling .fit again will overwrite the old fit for a model object.\n",
    "\n"
   ]
  },
  {
   "cell_type": "markdown",
   "metadata": {},
   "source": [
    "# Cross-validation in sklearn\n",
    "\n",
    "Note; the main reason for having a cross-validation scheme in place is because if you tweak a model to perform well on a test set you may still be overfitting uniquely skewed data."
   ]
  },
  {
   "cell_type": "code",
   "execution_count": 39,
   "metadata": {
    "collapsed": true
   },
   "outputs": [],
   "source": [
    "import numpy as np\n",
    "from sklearn.model_selection import train_test_split\n",
    "from sklearn import datasets\n",
    "from sklearn import svm\n",
    "\n",
    "# And the juicy bit!\n",
    "from sklearn.model_selection import cross_val_score"
   ]
  },
  {
   "cell_type": "code",
   "execution_count": 30,
   "metadata": {
    "collapsed": false
   },
   "outputs": [
    {
     "name": "stdout",
     "output_type": "stream",
     "text": [
      "(150, 4) (150,)\n"
     ]
    }
   ],
   "source": [
    "iris = datasets.load_iris()\n",
    "print(iris.data.shape, iris.target.shape)"
   ]
  },
  {
   "cell_type": "code",
   "execution_count": 36,
   "metadata": {
    "collapsed": false
   },
   "outputs": [
    {
     "name": "stdout",
     "output_type": "stream",
     "text": [
      "(90, 4) (90,)\n"
     ]
    }
   ],
   "source": [
    "# Training and test x and y values are from splitting x-data, y-data, test data is 40 % of dataset, random?\n",
    "x_train, x_test, y_train, y_test = train_test_split(iris.data, iris.target, test_size=0.4, random_state=0)\n",
    "\n",
    "print(x_train.shape, y_train.shape)"
   ]
  },
  {
   "cell_type": "code",
   "execution_count": 37,
   "metadata": {
    "collapsed": false
   },
   "outputs": [
    {
     "name": "stdout",
     "output_type": "stream",
     "text": [
      "0.966666666667\n"
     ]
    }
   ],
   "source": [
    "# Fit a model\n",
    "clf = svm.SVC(kernel='linear', C=1).fit(x_train, y_train)\n",
    "\n",
    "# Score the result\n",
    "print( clf.score(x_test, y_test) )"
   ]
  },
  {
   "cell_type": "code",
   "execution_count": 40,
   "metadata": {
    "collapsed": false
   },
   "outputs": [
    {
     "name": "stdout",
     "output_type": "stream",
     "text": [
      "[ 0.96666667  1.          0.96666667  0.96666667  1.        ]\n"
     ]
    }
   ],
   "source": [
    "# Now using cross-validation\n",
    "clf = svm.SVC(kernel='linear', C=1)\n",
    "\n",
    "#fit and score in one\n",
    "scores = cross_val_score(clf, iris.data, iris.target, cv=5)\n",
    "print(scores)"
   ]
  },
  {
   "cell_type": "code",
   "execution_count": 41,
   "metadata": {
    "collapsed": false
   },
   "outputs": [
    {
     "name": "stdout",
     "output_type": "stream",
     "text": [
      "Accuracy: 0.98 (+/- 0.03)\n"
     ]
    }
   ],
   "source": [
    "# And a nice snippet to give a formatted report of mean score and 95% CI\n",
    "print(\"Accuracy: %0.2f (+/- %0.2f)\" % (scores.mean(), scores.std() * 2))"
   ]
  },
  {
   "cell_type": "markdown",
   "metadata": {},
   "source": [
    "## Preprocessing and Standardisation\n",
    "\n",
    "Turns out, you should also hold out and/or cross-validate the data in the preprocessing/standardisation steps.  Makes sense since there are methods for these steps that can be thrown mightily by outliers and such, so it may introduce miss-fits.  The standardisation should therefore be part of the proceedure that is tested, assuming you have no way or no particular reason to record how the training set was transformed (specific parameters) then apply it to all new data."
   ]
  },
  {
   "cell_type": "code",
   "execution_count": 47,
   "metadata": {
    "collapsed": false
   },
   "outputs": [
    {
     "data": {
      "text/plain": [
       "0.93333333333333335"
      ]
     },
     "execution_count": 47,
     "metadata": {},
     "output_type": "execute_result"
    }
   ],
   "source": [
    "from sklearn import preprocessing\n",
    "x_train, x_test, y_train, y_test = train_test_split(iris.data, iris.target, test_size=0.4, random_state=0)\n",
    "\n",
    "# Scale everything properly\n",
    "scaler = preprocessing.StandardScaler().fit(x_train)\n",
    "x_train_transformed = scaler.transform(x_train)\n",
    "\n",
    "# Fit the model\n",
    "clf = svm.SVC(C=1).fit(x_train_transformed, y_train)\n",
    "\n",
    "# Apply test\n",
    "x_test_transformed = scaler.transform(x_test)\n",
    "clf.score(x_test_transformed, y_test)"
   ]
  },
  {
   "cell_type": "markdown",
   "metadata": {},
   "source": [
    "## Pipelines for making things easier\n"
   ]
  },
  {
   "cell_type": "code",
   "execution_count": 48,
   "metadata": {
    "collapsed": false
   },
   "outputs": [
    {
     "data": {
      "text/plain": [
       "array([ 0.96666667,  0.96666667,  0.96666667,  0.93333333,  1.        ])"
      ]
     },
     "execution_count": 48,
     "metadata": {},
     "output_type": "execute_result"
    }
   ],
   "source": [
    "from sklearn.pipeline import make_pipeline\n",
    "clf = make_pipeline(preprocessing.StandardScaler(), svm.SVC(C=1))\n",
    "\n",
    "# apply pipeline\n",
    "cross_val_score(clf, iris.data, iris.target, cv=5)"
   ]
  },
  {
   "cell_type": "code",
   "execution_count": 50,
   "metadata": {
    "collapsed": false
   },
   "outputs": [
    {
     "data": {
      "text/plain": [
       "0.96666666666666667"
      ]
     },
     "execution_count": 50,
     "metadata": {},
     "output_type": "execute_result"
    }
   ],
   "source": [
    "# cross_val predict can be use to retrieve the predicted value for each element when it was in the test set.\n",
    "from sklearn.model_selection import cross_val_predict\n",
    "from sklearn import metrics\n",
    "\n",
    "predicted = cross_val_predict(clf, iris.data, iris.target, cv=10)\n",
    "\n",
    "metrics.accuracy_score(iris.target, predicted)"
   ]
  },
  {
   "cell_type": "markdown",
   "metadata": {},
   "source": [
    "### One last trick - command for Leave One Out (LOO) cross-validation\n"
   ]
  },
  {
   "cell_type": "code",
   "execution_count": 52,
   "metadata": {
    "collapsed": false
   },
   "outputs": [
    {
     "name": "stdout",
     "output_type": "stream",
     "text": [
      "[1 2 3] [0]\n",
      "[0 2 3] [1]\n",
      "[0 1 3] [2]\n",
      "[0 1 2] [3]\n"
     ]
    }
   ],
   "source": [
    "from sklearn.model_selection import LeaveOneOut\n",
    "\n",
    "x = [1, 2, 3, 4]\n",
    "\n",
    "for train, test in LeaveOneOut().split(x):\n",
    "    print(\"%s %s\" % (train, test))"
   ]
  },
  {
   "cell_type": "code",
   "execution_count": null,
   "metadata": {
    "collapsed": true
   },
   "outputs": [],
   "source": []
  }
 ],
 "metadata": {
  "kernelspec": {
   "display_name": "Python 3",
   "language": "python",
   "name": "python3"
  },
  "language_info": {
   "codemirror_mode": {
    "name": "ipython",
    "version": 3
   },
   "file_extension": ".py",
   "mimetype": "text/x-python",
   "name": "python",
   "nbconvert_exporter": "python",
   "pygments_lexer": "ipython3",
   "version": "3.5.3"
  }
 },
 "nbformat": 4,
 "nbformat_minor": 2
}
