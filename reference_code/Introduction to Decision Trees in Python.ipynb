{
 "cells": [
  {
   "cell_type": "markdown",
   "metadata": {},
   "source": [
    "# Decision Trees in Python\n",
    "\n",
    "Based on tutorial at https://www.analyticsvidhya.com/blog/2016/04/complete-tutorial-tree-based-modeling-scratch-in-python/.\n",
    "\n",
    "This notebook just contains some code and some commentary, not the full explanations of the course.\n"
   ]
  },
  {
   "cell_type": "code",
   "execution_count": 28,
   "metadata": {
    "collapsed": false
   },
   "outputs": [],
   "source": [
    "\"\"\" Import libraries \"\"\"\n",
    "\n",
    "import numpy as np\n",
    "import pandas as pd\n",
    "\n",
    "from sklearn import tree\n",
    "from sklearn.datasets import load_iris, load_boston\n",
    "from matplotlib import pyplot as plt\n",
    "from sklearn.model_selection import train_test_split\n",
    "from sklearn.model_selection import cross_val_score\n",
    "from sklearn.model_selection import cross_val_predict\n",
    "from sklearn import metrics\n",
    "\n",
    "from sklearn.ensemble import RandomForestClassifier, RandomForestRegressor\n",
    "from sklearn.utils import check_random_state\n",
    "from sklearn.tree import _tree\n",
    "\n",
    "from sklearn.tree import export_graphviz\n",
    "import os"
   ]
  },
  {
   "cell_type": "code",
   "execution_count": 11,
   "metadata": {
    "collapsed": false
   },
   "outputs": [
    {
     "name": "stdout",
     "output_type": "stream",
     "text": [
      "[[ 5.1  3.5  1.4  0.2]\n",
      " [ 4.9  3.   1.4  0.2]\n",
      " [ 4.7  3.2  1.3  0.2]\n",
      " [ 4.6  3.1  1.5  0.2]\n",
      " [ 5.   3.6  1.4  0.2]\n",
      " [ 5.4  3.9  1.7  0.4]\n",
      " [ 4.6  3.4  1.4  0.3]\n",
      " [ 5.   3.4  1.5  0.2]\n",
      " [ 4.4  2.9  1.4  0.2]\n",
      " [ 4.9  3.1  1.5  0.1]\n",
      " [ 5.4  3.7  1.5  0.2]\n",
      " [ 4.8  3.4  1.6  0.2]\n",
      " [ 4.8  3.   1.4  0.1]\n",
      " [ 4.3  3.   1.1  0.1]\n",
      " [ 5.8  4.   1.2  0.2]\n",
      " [ 5.7  4.4  1.5  0.4]\n",
      " [ 5.4  3.9  1.3  0.4]\n",
      " [ 5.1  3.5  1.4  0.3]\n",
      " [ 5.7  3.8  1.7  0.3]\n",
      " [ 5.1  3.8  1.5  0.3]\n",
      " [ 5.4  3.4  1.7  0.2]\n",
      " [ 5.1  3.7  1.5  0.4]\n",
      " [ 4.6  3.6  1.   0.2]\n",
      " [ 5.1  3.3  1.7  0.5]\n",
      " [ 4.8  3.4  1.9  0.2]\n",
      " [ 5.   3.   1.6  0.2]\n",
      " [ 5.   3.4  1.6  0.4]\n",
      " [ 5.2  3.5  1.5  0.2]\n",
      " [ 5.2  3.4  1.4  0.2]\n",
      " [ 4.7  3.2  1.6  0.2]\n",
      " [ 4.8  3.1  1.6  0.2]\n",
      " [ 5.4  3.4  1.5  0.4]\n",
      " [ 5.2  4.1  1.5  0.1]\n",
      " [ 5.5  4.2  1.4  0.2]\n",
      " [ 4.9  3.1  1.5  0.1]\n",
      " [ 5.   3.2  1.2  0.2]\n",
      " [ 5.5  3.5  1.3  0.2]\n",
      " [ 4.9  3.1  1.5  0.1]\n",
      " [ 4.4  3.   1.3  0.2]\n",
      " [ 5.1  3.4  1.5  0.2]\n",
      " [ 5.   3.5  1.3  0.3]\n",
      " [ 4.5  2.3  1.3  0.3]\n",
      " [ 4.4  3.2  1.3  0.2]\n",
      " [ 5.   3.5  1.6  0.6]\n",
      " [ 5.1  3.8  1.9  0.4]\n",
      " [ 4.8  3.   1.4  0.3]\n",
      " [ 5.1  3.8  1.6  0.2]\n",
      " [ 4.6  3.2  1.4  0.2]\n",
      " [ 5.3  3.7  1.5  0.2]\n",
      " [ 5.   3.3  1.4  0.2]\n",
      " [ 7.   3.2  4.7  1.4]\n",
      " [ 6.4  3.2  4.5  1.5]\n",
      " [ 6.9  3.1  4.9  1.5]\n",
      " [ 5.5  2.3  4.   1.3]\n",
      " [ 6.5  2.8  4.6  1.5]\n",
      " [ 5.7  2.8  4.5  1.3]\n",
      " [ 6.3  3.3  4.7  1.6]\n",
      " [ 4.9  2.4  3.3  1. ]\n",
      " [ 6.6  2.9  4.6  1.3]\n",
      " [ 5.2  2.7  3.9  1.4]\n",
      " [ 5.   2.   3.5  1. ]\n",
      " [ 5.9  3.   4.2  1.5]\n",
      " [ 6.   2.2  4.   1. ]\n",
      " [ 6.1  2.9  4.7  1.4]\n",
      " [ 5.6  2.9  3.6  1.3]\n",
      " [ 6.7  3.1  4.4  1.4]\n",
      " [ 5.6  3.   4.5  1.5]\n",
      " [ 5.8  2.7  4.1  1. ]\n",
      " [ 6.2  2.2  4.5  1.5]\n",
      " [ 5.6  2.5  3.9  1.1]\n",
      " [ 5.9  3.2  4.8  1.8]\n",
      " [ 6.1  2.8  4.   1.3]\n",
      " [ 6.3  2.5  4.9  1.5]\n",
      " [ 6.1  2.8  4.7  1.2]\n",
      " [ 6.4  2.9  4.3  1.3]\n",
      " [ 6.6  3.   4.4  1.4]\n",
      " [ 6.8  2.8  4.8  1.4]\n",
      " [ 6.7  3.   5.   1.7]\n",
      " [ 6.   2.9  4.5  1.5]\n",
      " [ 5.7  2.6  3.5  1. ]\n",
      " [ 5.5  2.4  3.8  1.1]\n",
      " [ 5.5  2.4  3.7  1. ]\n",
      " [ 5.8  2.7  3.9  1.2]\n",
      " [ 6.   2.7  5.1  1.6]\n",
      " [ 5.4  3.   4.5  1.5]\n",
      " [ 6.   3.4  4.5  1.6]\n",
      " [ 6.7  3.1  4.7  1.5]\n",
      " [ 6.3  2.3  4.4  1.3]\n",
      " [ 5.6  3.   4.1  1.3]\n",
      " [ 5.5  2.5  4.   1.3]\n",
      " [ 5.5  2.6  4.4  1.2]\n",
      " [ 6.1  3.   4.6  1.4]\n",
      " [ 5.8  2.6  4.   1.2]\n",
      " [ 5.   2.3  3.3  1. ]\n",
      " [ 5.6  2.7  4.2  1.3]\n",
      " [ 5.7  3.   4.2  1.2]\n",
      " [ 5.7  2.9  4.2  1.3]\n",
      " [ 6.2  2.9  4.3  1.3]\n",
      " [ 5.1  2.5  3.   1.1]\n",
      " [ 5.7  2.8  4.1  1.3]\n",
      " [ 6.3  3.3  6.   2.5]\n",
      " [ 5.8  2.7  5.1  1.9]\n",
      " [ 7.1  3.   5.9  2.1]\n",
      " [ 6.3  2.9  5.6  1.8]\n",
      " [ 6.5  3.   5.8  2.2]\n",
      " [ 7.6  3.   6.6  2.1]\n",
      " [ 4.9  2.5  4.5  1.7]\n",
      " [ 7.3  2.9  6.3  1.8]\n",
      " [ 6.7  2.5  5.8  1.8]\n",
      " [ 7.2  3.6  6.1  2.5]\n",
      " [ 6.5  3.2  5.1  2. ]\n",
      " [ 6.4  2.7  5.3  1.9]\n",
      " [ 6.8  3.   5.5  2.1]\n",
      " [ 5.7  2.5  5.   2. ]\n",
      " [ 5.8  2.8  5.1  2.4]\n",
      " [ 6.4  3.2  5.3  2.3]\n",
      " [ 6.5  3.   5.5  1.8]\n",
      " [ 7.7  3.8  6.7  2.2]\n",
      " [ 7.7  2.6  6.9  2.3]\n",
      " [ 6.   2.2  5.   1.5]\n",
      " [ 6.9  3.2  5.7  2.3]\n",
      " [ 5.6  2.8  4.9  2. ]\n",
      " [ 7.7  2.8  6.7  2. ]\n",
      " [ 6.3  2.7  4.9  1.8]\n",
      " [ 6.7  3.3  5.7  2.1]\n",
      " [ 7.2  3.2  6.   1.8]\n",
      " [ 6.2  2.8  4.8  1.8]\n",
      " [ 6.1  3.   4.9  1.8]\n",
      " [ 6.4  2.8  5.6  2.1]\n",
      " [ 7.2  3.   5.8  1.6]\n",
      " [ 7.4  2.8  6.1  1.9]\n",
      " [ 7.9  3.8  6.4  2. ]\n",
      " [ 6.4  2.8  5.6  2.2]\n",
      " [ 6.3  2.8  5.1  1.5]\n",
      " [ 6.1  2.6  5.6  1.4]\n",
      " [ 7.7  3.   6.1  2.3]\n",
      " [ 6.3  3.4  5.6  2.4]\n",
      " [ 6.4  3.1  5.5  1.8]\n",
      " [ 6.   3.   4.8  1.8]\n",
      " [ 6.9  3.1  5.4  2.1]\n",
      " [ 6.7  3.1  5.6  2.4]\n",
      " [ 6.9  3.1  5.1  2.3]\n",
      " [ 5.8  2.7  5.1  1.9]\n",
      " [ 6.8  3.2  5.9  2.3]\n",
      " [ 6.7  3.3  5.7  2.5]\n",
      " [ 6.7  3.   5.2  2.3]\n",
      " [ 6.3  2.5  5.   1.9]\n",
      " [ 6.5  3.   5.2  2. ]\n",
      " [ 6.2  3.4  5.4  2.3]\n",
      " [ 5.9  3.   5.1  1.8]] [0 0 0 0 0 0 0 0 0 0 0 0 0 0 0 0 0 0 0 0 0 0 0 0 0 0 0 0 0 0 0 0 0 0 0 0 0\n",
      " 0 0 0 0 0 0 0 0 0 0 0 0 0 1 1 1 1 1 1 1 1 1 1 1 1 1 1 1 1 1 1 1 1 1 1 1 1\n",
      " 1 1 1 1 1 1 1 1 1 1 1 1 1 1 1 1 1 1 1 1 1 1 1 1 1 1 2 2 2 2 2 2 2 2 2 2 2\n",
      " 2 2 2 2 2 2 2 2 2 2 2 2 2 2 2 2 2 2 2 2 2 2 2 2 2 2 2 2 2 2 2 2 2 2 2 2 2\n",
      " 2 2]\n"
     ]
    }
   ],
   "source": [
    "\"\"\" As always, we'll play with the Iris dataset \"\"\"\n",
    "\n",
    "data = load_iris()\n",
    "print(data['data'], data['target'])\n"
   ]
  },
  {
   "cell_type": "code",
   "execution_count": 13,
   "metadata": {
    "collapsed": false
   },
   "outputs": [
    {
     "name": "stdout",
     "output_type": "stream",
     "text": [
      "1.0\n",
      "DecisionTreeClassifier(class_weight=None, criterion='entropy', max_depth=None,\n",
      "            max_features=None, max_leaf_nodes=None,\n",
      "            min_impurity_split=1e-07, min_samples_leaf=1,\n",
      "            min_samples_split=2, min_weight_fraction_leaf=0.0,\n",
      "            presort=False, random_state=None, splitter='best')\n"
     ]
    }
   ],
   "source": [
    "\"\"\" Load up and fit a decision tree with default settings \"\"\"\n",
    "\n",
    "model = tree.DecisionTreeClassifier(criterion='entropy')\n",
    "# for classification, here you can change the algorithm as gini or entropy (information gain) by default it is gini \n",
    "\n",
    "model.fit(data['data'], data['target'])\n",
    "\n",
    "print(model.score(data['data'], data['target']))\n",
    "\n",
    "print(model)"
   ]
  },
  {
   "cell_type": "code",
   "execution_count": 15,
   "metadata": {
    "collapsed": false
   },
   "outputs": [
    {
     "name": "stdout",
     "output_type": "stream",
     "text": [
      "0.95\n"
     ]
    }
   ],
   "source": [
    "\"\"\" This time I'm going full-hog\n",
    "    and splitting to training and testing data \"\"\"\n",
    "x_train, x_test, y_train, y_test = train_test_split(data['data'], data['target'], test_size=0.4, random_state=0)\n",
    "\n",
    "# Fit to training data\n",
    "model.fit(x_train, y_train)\n",
    "\n",
    "# Test your fitted model\n",
    "print(model.score(x_test, y_test))"
   ]
  },
  {
   "cell_type": "code",
   "execution_count": 16,
   "metadata": {
    "collapsed": false
   },
   "outputs": [
    {
     "name": "stdout",
     "output_type": "stream",
     "text": [
      "Accuracy: 0.96 (+/- 0.07)\n"
     ]
    }
   ],
   "source": [
    "\"\"\" And using cross-validation \"\"\"\n",
    "\n",
    "scores = cross_val_score(model, data['data'], data['target'], cv=5)\n",
    "\n",
    "\n",
    "# And a nice snippet to give a formatted report of mean score and 95% CI\n",
    "print(\"Accuracy: %0.2f (+/- %0.2f)\" % (scores.mean(), scores.std() * 2))"
   ]
  },
  {
   "cell_type": "markdown",
   "metadata": {},
   "source": [
    "# Implementing Random Forests in Python\n",
    "\n",
    "In this case, I've not tried to hold back data for testing.  I'm not doing so because I'm not certain if such a method is required when dealing with a model that through sampling-with-replacement naturally tests and aggregates all possible combinations."
   ]
  },
  {
   "cell_type": "code",
   "execution_count": 20,
   "metadata": {
    "collapsed": false
   },
   "outputs": [
    {
     "name": "stdout",
     "output_type": "stream",
     "text": [
      "1.0\n"
     ]
    }
   ],
   "source": [
    "# Load and split data\n",
    "data = load_iris()\n",
    "\n",
    "# Create and fit model\n",
    "model= RandomForestClassifier(n_estimators=1000, criterion=\"entropy\")\n",
    "\n",
    "model.fit(data['data'], data['target'])\n",
    "\n",
    "print(model.score(data['data'], data['target']))"
   ]
  },
  {
   "cell_type": "markdown",
   "metadata": {},
   "source": [
    "## Plotting your trees/ensembles - some code stolen from the internet\n",
    "\n",
    "With effusive thanks to Aysen Tatarinov at https://aysent.github.io/2015/11/08/random-forest-leaf-visualization.html.  Just copy, paste and play!\n",
    "\n"
   ]
  },
  {
   "cell_type": "code",
   "execution_count": 43,
   "metadata": {
    "collapsed": false
   },
   "outputs": [],
   "source": [
    "def leaf_depths(tree, node_id = 0):\n",
    "    \n",
    "     '''\n",
    "     tree.children_left and tree.children_right store ids\n",
    "     of left and right chidren of a given node\n",
    "     '''\n",
    "     left_child = tree.children_left[node_id]\n",
    "     right_child = tree.children_right[node_id]\n",
    "\n",
    "     '''\n",
    "     If a given node is terminal, \n",
    "     both left and right children are set to _tree.TREE_LEAF\n",
    "     '''\n",
    "     if left_child == _tree.TREE_LEAF:\n",
    "         \n",
    "         '''\n",
    "         Set depth of terminal nodes to 0\n",
    "         '''\n",
    "         depths = np.array([0])\n",
    "\n",
    "     else:\n",
    "         \n",
    "         '''\n",
    "         Get depths of left and right children and\n",
    "         increment them by 1\n",
    "         '''\n",
    "         left_depths = leaf_depths(tree, left_child) + 1\n",
    "         right_depths = leaf_depths(tree, right_child) + 1\n",
    " \n",
    "         depths = np.append(left_depths, right_depths)\n",
    " \n",
    "     return depths\n",
    "\n",
    "def leaf_samples(tree, node_id = 0):\n",
    "    \n",
    "     left_child = tree.children_left[node_id]\n",
    "     right_child = tree.children_right[node_id]\n",
    "\n",
    "     if left_child == _tree.TREE_LEAF:\n",
    "        \n",
    "         samples = np.array([tree.n_node_samples[node_id]])\n",
    "\n",
    "     else:\n",
    "        \n",
    "         left_samples = leaf_samples(tree, left_child)\n",
    "         right_samples = leaf_samples(tree, right_child)\n",
    "\n",
    "         samples = np.append(left_samples, right_samples)\n",
    "\n",
    "     return samples\n",
    "\n",
    "def draw_tree(ensemble, tree_id=0):\n",
    "\n",
    "     plt.figure(figsize=(8,8))\n",
    "     plt.subplot(211)\n",
    "\n",
    "     tree = ensemble.estimators_[tree_id].tree_\n",
    "\n",
    "     depths = leaf_depths(tree)\n",
    "     plt.hist(depths, histtype='step', color='#9933ff', \n",
    "              bins=range(min(depths), max(depths)+1))\n",
    "\n",
    "     plt.xlabel(\"Depth of leaf nodes (tree %s)\" % tree_id)\n",
    "    \n",
    "     plt.subplot(212)\n",
    "    \n",
    "     samples = leaf_samples(tree)\n",
    "     plt.hist(samples, histtype='step', color='#3399ff', \n",
    "              bins=range(min(samples), max(samples)+1))\n",
    "    \n",
    "     plt.xlabel(\"Number of samples in leaf nodes (tree %s)\" % tree_id)\n",
    "   \n",
    "     plt.show()\n",
    "     \n",
    "     return 0\n",
    "\n",
    "\n",
    "    \n",
    "def draw_ensemble(ensemble):\n",
    "\n",
    "     plt.figure(figsize=(8,8))\n",
    "     plt.subplot(211)\n",
    "\n",
    "     depths_all = np.array([], dtype=int)\n",
    "\n",
    "     for x in ensemble.estimators_:\n",
    "         tree = x.tree_\n",
    "         depths = leaf_depths(tree)\n",
    "         depths_all = np.append(depths_all, depths)\n",
    "         plt.hist(depths, histtype='step', color='#ddaaff', \n",
    "                  bins=range(min(depths), max(depths)+1))\n",
    "\n",
    "     plt.hist(depths_all, histtype='step', color='#9933ff', \n",
    "              bins=range(min(depths_all), max(depths_all)+1), \n",
    "              weights=np.ones(len(depths_all))/len(ensemble.estimators_), \n",
    "              linewidth=2)\n",
    "     plt.xlabel(\"Depth of leaf nodes\")\n",
    "    \n",
    "     samples_all = np.array([], dtype=int)\n",
    "    \n",
    "     plt.subplot(212)\n",
    "    \n",
    "     for x in ensemble.estimators_:\n",
    "         tree = x.tree_\n",
    "         samples = leaf_samples(tree)\n",
    "         samples_all = np.append(samples_all, samples)\n",
    "         plt.hist(samples, histtype='step', color='#aaddff', \n",
    "                  bins=range(min(samples), max(samples)+1))\n",
    "    \n",
    "     plt.hist(samples_all, histtype='step', color='#3399ff', \n",
    "              bins=range(min(samples_all), max(samples_all)+1), \n",
    "              weights=np.ones(len(samples_all))/len(ensemble.estimators_), \n",
    "              linewidth=2)\n",
    "     plt.xlabel(\"Number of samples in leaf nodes\")\n",
    "    \n",
    "     plt.show()\n",
    "    \n",
    "     return 0"
   ]
  },
  {
   "cell_type": "code",
   "execution_count": 44,
   "metadata": {
    "collapsed": false
   },
   "outputs": [
    {
     "data": {
      "image/png": "[encoded data removed]",
      "text/plain": [
       "<matplotlib.figure.Figure at 0x7fbb71913668>"
      ]
     },
     "metadata": {},
     "output_type": "display_data"
    },
    {
     "data": {
      "text/plain": [
       "0"
      ]
     },
     "execution_count": 44,
     "metadata": {},
     "output_type": "execute_result"
    }
   ],
   "source": [
    "boston = load_boston()\n",
    "\n",
    "X = boston.data\n",
    "y = boston.target\n",
    "\n",
    "rnd = check_random_state(0)\n",
    "\n",
    "ensemble = RandomForestRegressor(n_estimators=100, random_state=rnd)\n",
    "\n",
    "ensemble.fit(X, y)\n",
    "\n",
    "draw_tree(ensemble)\n"
   ]
  },
  {
   "cell_type": "code",
   "execution_count": 45,
   "metadata": {
    "collapsed": false
   },
   "outputs": [
    {
     "data": {
      "image/png": "[encoded data removed]",
      "text/plain": [
       "<matplotlib.figure.Figure at 0x7fbb71b6ce10>"
      ]
     },
     "metadata": {},
     "output_type": "display_data"
    },
    {
     "data": {
      "text/plain": [
       "0"
      ]
     },
     "execution_count": 45,
     "metadata": {},
     "output_type": "execute_result"
    }
   ],
   "source": [
    "# Or, plot everything and its mum\n",
    "draw_ensemble(ensemble)"
   ]
  },
  {
   "cell_type": "code",
   "execution_count": 49,
   "metadata": {
    "collapsed": false
   },
   "outputs": [
    {
     "name": "stderr",
     "output_type": "stream",
     "text": [
      "/usr/lib/python3/dist-packages/sklearn/tree/export.py:386: DeprecationWarning: out_file can be set to None starting from 0.18. This will be the default in 0.20.\n",
      "  DeprecationWarning)\n"
     ]
    },
    {
     "data": {
      "text/plain": [
       "0"
      ]
     },
     "execution_count": 49,
     "metadata": {},
     "output_type": "execute_result"
    }
   ],
   "source": [
    "# For plotting a single tree structure.\n",
    "# Note, needs graphviz installed on host machine to perform format conversion at end.\n",
    "# I have no idea what graphviz is!\n",
    "# WARNING - If tree is complex will produce a f**king huge image!\n",
    "\n",
    "export_graphviz(ensemble.estimators_[0],\n",
    "                filled=True,\n",
    "                rounded=True)\n",
    "\n",
    "os.system('dot -Tpng tree.dot -o tree.png')"
   ]
  },
  {
   "cell_type": "code",
   "execution_count": null,
   "metadata": {
    "collapsed": true
   },
   "outputs": [],
   "source": []
  }
 ],
 "metadata": {
  "kernelspec": {
   "display_name": "Python 3",
   "language": "python",
   "name": "python3"
  },
  "language_info": {
   "codemirror_mode": {
    "name": "ipython",
    "version": 3
   },
   "file_extension": ".py",
   "mimetype": "text/x-python",
   "name": "python",
   "nbconvert_exporter": "python",
   "pygments_lexer": "ipython3",
   "version": "3.5.3"
  }
 },
 "nbformat": 4,
 "nbformat_minor": 2
}
