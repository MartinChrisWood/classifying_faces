{
 "cells": [
  {
   "cell_type": "markdown",
   "metadata": {},
   "source": [
    "# KDNUGGETS have a series of blog posts upcoming on using and configuring Keras for common tasks.\n",
    "\n",
    "I thought this would be a good chance to practice what I (supposedly) learned in Andrew Ng's course by applying it to some data before I go back for his last two courses.\n",
    "\n",
    "I remain interested primarily in how to train a model when they data you have has been supplemented heavily by other sources."
   ]
  },
  {
   "cell_type": "code",
   "execution_count": null,
   "metadata": {},
   "outputs": [],
   "source": []
  }
 ],
 "metadata": {
  "kernelspec": {
   "display_name": "Python 3",
   "language": "python",
   "name": "python3"
  },
  "language_info": {
   "codemirror_mode": {
    "name": "ipython",
    "version": 3
   },
   "file_extension": ".py",
   "mimetype": "text/x-python",
   "name": "python",
   "nbconvert_exporter": "python",
   "pygments_lexer": "ipython3",
   "version": "3.6.5"
  }
 },
 "nbformat": 4,
 "nbformat_minor": 2
}
